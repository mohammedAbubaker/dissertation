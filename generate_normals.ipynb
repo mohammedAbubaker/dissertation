{
 "cells": [
  {
   "cell_type": "markdown",
   "id": "84d1749c-7583-4339-9254-9cc1a0f1303a",
   "metadata": {},
   "source": [
    "# Load in the .ply file as a dataframe."
   ]
  },
  {
   "cell_type": "code",
   "execution_count": 2,
   "id": "91b4894d-f471-44eb-9331-bf6d992ec0e4",
   "metadata": {},
   "outputs": [
    {
     "data": {
      "text/plain": [
       "17103"
      ]
     },
     "execution_count": 2,
     "metadata": {},
     "output_type": "execute_result"
    }
   ],
   "source": [
    "from plyfile import PlyData\n",
    "import pandas as pd\n",
    "from tqdm.notebook import tqdm\n",
    "\n",
    "# Load the .ply file\n",
    "ply = PlyData.read(\"bathtub.ply\")\n",
    "\n",
    "# Extract vertex data (assuming Gaussian splats are stored under 'vertex')\n",
    "vertex_data = ply['vertex'].data  # Structured NumPy array\n",
    "\n",
    "# Convert structured array to Pandas DataFrame\n",
    "df = pd.DataFrame(vertex_data)\n",
    "\n",
    "# Print first few rows to verify\n",
    "df.head()\n",
    "\n",
    "NUM_GAUSSIANS = df.shape[0]\n",
    "NUM_GAUSSIANS"
   ]
  },
  {
   "cell_type": "markdown",
   "id": "319b649b-921f-466d-bf2c-442c6a2516d7",
   "metadata": {},
   "source": [
    "# Extract covariance matrix"
   ]
  },
  {
   "cell_type": "code",
   "execution_count": 3,
   "id": "bf85f59e-dac7-44a9-8433-c0dfe32c031b",
   "metadata": {},
   "outputs": [
    {
     "data": {
      "application/vnd.jupyter.widget-view+json": {
       "model_id": "8392f9f5cb7447e6bc0820975ad77d79",
       "version_major": 2,
       "version_minor": 0
      },
      "text/plain": [
       "  0%|          | 0/17103 [00:00<?, ?it/s]"
      ]
     },
     "metadata": {},
     "output_type": "display_data"
    },
    {
     "data": {
      "text/plain": [
       "0        [[14.2551565, 0.31448466, -0.5548387], [0.3144...\n",
       "1        [[11.827917, -0.45735186, -0.41885278], [-0.45...\n",
       "2        [[15.732886, -0.7379525, -0.5710099], [-0.7379...\n",
       "3        [[18.020498, 0.24299759, -1.0292158], [0.24299...\n",
       "4        [[15.156092, -1.3880357, -0.4204048], [-1.3880...\n",
       "                               ...                        \n",
       "17098    [[26.211916, 0.2540651, 1.714622], [0.25406456...\n",
       "17099    [[44.5594, -4.6726885, 5.749929], [-4.6726885,...\n",
       "17100    [[17.984083, -4.4060597, 2.3991559], [-4.40605...\n",
       "17101    [[23.549572, -9.974669, -1.9258583], [-9.97466...\n",
       "17102    [[49.3649, -6.307815, 5.9685583], [-6.3078146,...\n",
       "Name: cov_matrix, Length: 17103, dtype: object"
      ]
     },
     "execution_count": 3,
     "metadata": {},
     "output_type": "execute_result"
    }
   ],
   "source": [
    "import numpy as np\n",
    "import pandas as pd\n",
    "\n",
    "\n",
    "\n",
    "def quaternion_to_rotation_matrix(w, x, y, z):\n",
    "    \"\"\" Convert a quaternion (w, x, y, z) into a 3×3 rotation matrix. \"\"\"\n",
    "    return np.array([\n",
    "        [1 - 2 * (y**2 + z**2), 2 * (x*y - w*z), 2 * (x*z + w*y)],\n",
    "        [2 * (x*y + w*z), 1 - 2 * (x**2 + z**2), 2 * (y*z - w*x)],\n",
    "        [2 * (x*z - w*y), 2 * (y*z + w*x), 1 - 2 * (x**2 + y**2)]\n",
    "    ])\n",
    "\n",
    "\n",
    "\n",
    "p_bar = tqdm(range(NUM_GAUSSIANS))\n",
    "curr = 0\n",
    "def compute_covariance_matrix(row):\n",
    "\n",
    "    \"\"\" Compute the covariance matrix for a given row with quaternion and scale values. \"\"\"\n",
    "    # Extract quaternion and scale values\n",
    "    w, x, y, z = row['rot_0'], row['rot_1'], row['rot_2'], row['rot_3']\n",
    "    scale_0, scale_1, scale_2 = row['scale_0'], row['scale_1'], row['scale_2']\n",
    "\n",
    "    # Compute rotation matrix\n",
    "    R = quaternion_to_rotation_matrix(w, x, y, z)\n",
    "\n",
    "    # Compute scale diagonal matrix (square of scale values)\n",
    "    D = np.diag([scale_0**2, scale_1**2, scale_2**2])\n",
    "\n",
    "    # Compute covariance matrix: Σ = R D R^T\n",
    "    cov_matrix = R @ D @ R.T\n",
    "\n",
    "    # Progress bar stuff\n",
    "    global curr\n",
    "    if curr % 100 == 0:\n",
    "        p_bar.update(100)\n",
    "    curr += 1\n",
    "    p_bar.refresh()\n",
    "    return cov_matrix\n",
    "\n",
    "# Compute covariance matrices for each row\n",
    "df['cov_matrix'] = df.apply(compute_covariance_matrix, axis=1)\n",
    "\n",
    "# Display the first few results\n",
    "df['cov_matrix']"
   ]
  },
  {
   "cell_type": "markdown",
   "id": "b103a03a-7bfd-4b7c-99ae-761471d0711b",
   "metadata": {},
   "source": [
    "# Calculate eigenvectors, eigenvalues and subsequently the normal for each gaussian"
   ]
  },
  {
   "cell_type": "code",
   "execution_count": 4,
   "id": "109605f0-eeb0-49d4-b71e-609b317d7fc8",
   "metadata": {},
   "outputs": [
    {
     "data": {
      "application/vnd.jupyter.widget-view+json": {
       "model_id": "941ced87c3a64de69593420b77df8c31",
       "version_major": 2,
       "version_minor": 0
      },
      "text/plain": [
       "  0%|          | 0/17103 [00:00<?, ?it/s]"
      ]
     },
     "metadata": {},
     "output_type": "display_data"
    }
   ],
   "source": [
    "def quaternion_to_rotation_matrix(w, x, y, z):\n",
    "    \"\"\"Convert a quaternion (w, x, y, z) into a 3×3 rotation matrix.\n",
    "    \n",
    "    Args:\n",
    "        w: Scalar/real component of quaternion\n",
    "        x, y, z: Vector/imaginary components of quaternion\n",
    "        \n",
    "    Returns:\n",
    "        3x3 rotation matrix as numpy array\n",
    "    \"\"\"\n",
    "    return np.array([\n",
    "        [1 - 2*y*y - 2*z*z,     2*x*y - 2*w*z,     2*x*z + 2*w*y],\n",
    "        [    2*x*y + 2*w*z, 1 - 2*x*x - 2*z*z,     2*y*z - 2*w*x],\n",
    "        [    2*x*z - 2*w*y,     2*y*z + 2*w*x, 1 - 2*x*x - 2*y*y]\n",
    "    ])\n",
    "    \n",
    "\n",
    "p_bar = tqdm(range(NUM_GAUSSIANS))\n",
    "curr = 0\n",
    "\n",
    "def compute_normal_from_rotation(row):\n",
    "    w, x, y, z = row['rot_0'], row['rot_1'], row['rot_2'], row['rot_3']\n",
    "    R = quaternion_to_rotation_matrix(w, x, y, z)\n",
    "    \n",
    "    # Extract the normal (assuming it aligns with z-axis)\n",
    "    # R[:, 2] gives us the third column of R\n",
    "    normal = R[:, 2]  # or R[2, :] depending on your convention\n",
    "    global curr\n",
    "    if curr % 1000 == 0:\n",
    "        p_bar.update(1000)\n",
    "        p_bar.refresh()\n",
    "    curr += 1\n",
    "    \n",
    "    return normal[0], normal[1], normal[2]\n",
    "\n",
    "df['n_x'], df['n_y'], df['n_z'] = zip(*df.apply(compute_normal_from_rotation, axis=1))\n",
    "df_normals = df[['x', 'y', 'z', 'n_x', 'n_y', 'n_z']]"
   ]
  },
  {
   "cell_type": "code",
   "execution_count": 5,
   "id": "b4fa39d4-c9bc-476f-b723-acdc23b010e8",
   "metadata": {},
   "outputs": [],
   "source": [
    "df_normals.to_csv('normals.csv')"
   ]
  }
 ],
 "metadata": {
  "kernelspec": {
   "display_name": "Python 3 (ipykernel)",
   "language": "python",
   "name": "python3"
  },
  "language_info": {
   "codemirror_mode": {
    "name": "ipython",
    "version": 3
   },
   "file_extension": ".py",
   "mimetype": "text/x-python",
   "name": "python",
   "nbconvert_exporter": "python",
   "pygments_lexer": "ipython3",
   "version": "3.12.3"
  }
 },
 "nbformat": 4,
 "nbformat_minor": 5
}
