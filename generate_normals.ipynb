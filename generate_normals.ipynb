{
 "cells": [
  {
   "cell_type": "markdown",
   "id": "84d1749c-7583-4339-9254-9cc1a0f1303a",
   "metadata": {},
   "source": [
    "# Load in the .ply file as a dataframe."
   ]
  },
  {
   "cell_type": "code",
   "execution_count": 1,
   "id": "91b4894d-f471-44eb-9331-bf6d992ec0e4",
   "metadata": {},
   "outputs": [
    {
     "data": {
      "text/plain": [
       "19688"
      ]
     },
     "execution_count": 1,
     "metadata": {},
     "output_type": "execute_result"
    }
   ],
   "source": [
    "from plyfile import PlyData\n",
    "import pandas as pd\n",
    "from tqdm.notebook import tqdm\n",
    "\n",
    "# Load the .ply file\n",
    "ply = PlyData.read(\"bathtub.ply\")\n",
    "\n",
    "# Extract vertex data (assuming Gaussian splats are stored under 'vertex')\n",
    "vertex_data = ply['vertex'].data  # Structured NumPy array\n",
    "\n",
    "# Convert structured array to Pandas DataFrame\n",
    "df = pd.DataFrame(vertex_data)\n",
    "\n",
    "# Print first few rows to verify\n",
    "df.head()\n",
    "\n",
    "NUM_GAUSSIANS = df.shape[0]\n",
    "NUM_GAUSSIANS"
   ]
  },
  {
   "cell_type": "markdown",
   "id": "319b649b-921f-466d-bf2c-442c6a2516d7",
   "metadata": {},
   "source": [
    "# Extract covariance matrix"
   ]
  },
  {
   "cell_type": "code",
   "execution_count": 2,
   "id": "bf85f59e-dac7-44a9-8433-c0dfe32c031b",
   "metadata": {},
   "outputs": [
    {
     "data": {
      "application/vnd.jupyter.widget-view+json": {
       "model_id": "26ae5b71fba04dec81561c223c18cdc8",
       "version_major": 2,
       "version_minor": 0
      },
      "text/plain": [
       "  0%|          | 0/19688 [00:00<?, ?it/s]"
      ]
     },
     "metadata": {},
     "output_type": "display_data"
    },
    {
     "data": {
      "text/plain": [
       "0        [[14.270220302057256, 0.030039504859420002, -0...\n",
       "1        [[14.034422023086114, 0.3942824939663506, 0.98...\n",
       "2        [[12.205749334288944, -0.005383796275049768, -...\n",
       "3        [[14.35949498287602, -0.6124241066330384, -0.2...\n",
       "4        [[11.752327533769492, 0.0169083245297531, 0.15...\n",
       "                               ...                        \n",
       "19683    [[43.29410002374311, -1.5783025148603325, 8.87...\n",
       "19684    [[13.16064708324406, -1.23490286241826, 0.8377...\n",
       "19685    [[37.00068350932147, -0.5779855211218533, 7.20...\n",
       "19686    [[65.70514331384507, 5.558583875339712, -22.01...\n",
       "19687    [[65.91033729043927, -10.362485586139705, 17.0...\n",
       "Name: cov_matrix, Length: 19688, dtype: object"
      ]
     },
     "execution_count": 2,
     "metadata": {},
     "output_type": "execute_result"
    }
   ],
   "source": [
    "import numpy as np\n",
    "import pandas as pd\n",
    "\n",
    "\n",
    "\n",
    "def quaternion_to_rotation_matrix(w, x, y, z):\n",
    "    \"\"\" Convert a quaternion (w, x, y, z) into a 3×3 rotation matrix. \"\"\"\n",
    "    return np.array([\n",
    "        [1 - 2 * (y**2 + z**2), 2 * (x*y - w*z), 2 * (x*z + w*y)],\n",
    "        [2 * (x*y + w*z), 1 - 2 * (x**2 + z**2), 2 * (y*z - w*x)],\n",
    "        [2 * (x*z - w*y), 2 * (y*z + w*x), 1 - 2 * (x**2 + y**2)]\n",
    "    ])\n",
    "\n",
    "\n",
    "\n",
    "p_bar = tqdm(range(NUM_GAUSSIANS))\n",
    "curr = 0\n",
    "def compute_covariance_matrix(row):\n",
    "\n",
    "    \"\"\" Compute the covariance matrix for a given row with quaternion and scale values. \"\"\"\n",
    "    # Extract quaternion and scale values\n",
    "    w, x, y, z = row['rot_0'], row['rot_1'], row['rot_2'], row['rot_3']\n",
    "    scale_0, scale_1, scale_2 = row['scale_0'], row['scale_1'], row['scale_2']\n",
    "\n",
    "    # Compute rotation matrix\n",
    "    R = quaternion_to_rotation_matrix(w, x, y, z)\n",
    "\n",
    "    # Compute scale diagonal matrix (square of scale values)\n",
    "    D = np.diag([scale_0**2, scale_1**2, scale_2**2])\n",
    "\n",
    "    # Compute covariance matrix: Σ = R D R^T\n",
    "    cov_matrix = R @ D @ R.T\n",
    "\n",
    "    # Progress bar stuff\n",
    "    global curr\n",
    "    if curr % 100 == 0:\n",
    "        p_bar.update(100)\n",
    "    curr += 1\n",
    "    p_bar.refresh()\n",
    "    return cov_matrix\n",
    "            \n",
    "# Compute covariance matrices for each row\n",
    "df['cov_matrix'] = df.apply(compute_covariance_matrix, axis=1)\n",
    "\n",
    "# Display the first few results\n",
    "df['cov_matrix']"
   ]
  },
  {
   "cell_type": "markdown",
   "id": "b103a03a-7bfd-4b7c-99ae-761471d0711b",
   "metadata": {},
   "source": [
    "# Calculate eigenvectors, eigenvalues and subsequently the normal for each gaussian"
   ]
  },
  {
   "cell_type": "code",
   "execution_count": 5,
   "id": "109605f0-eeb0-49d4-b71e-609b317d7fc8",
   "metadata": {},
   "outputs": [
    {
     "data": {
      "application/vnd.jupyter.widget-view+json": {
       "model_id": "0f9b5f1e750c49bc85f635ba43a71757",
       "version_major": 2,
       "version_minor": 0
      },
      "text/plain": [
       "  0%|          | 0/19688 [00:00<?, ?it/s]"
      ]
     },
     "metadata": {},
     "output_type": "display_data"
    }
   ],
   "source": [
    "def quaternion_to_rotation_matrix(w, x, y, z):\n",
    "    \"\"\"Convert a quaternion (w, x, y, z) into a 3×3 rotation matrix.\n",
    "    \n",
    "    Args:\n",
    "        w: Scalar/real component of quaternion\n",
    "        x, y, z: Vector/imaginary components of quaternion\n",
    "        \n",
    "    Returns:\n",
    "        3x3 rotation matrix as numpy array\n",
    "    \"\"\"\n",
    "    return np.array([\n",
    "        [1 - 2*y*y - 2*z*z,     2*x*y - 2*w*z,     2*x*z + 2*w*y],\n",
    "        [    2*x*y + 2*w*z, 1 - 2*x*x - 2*z*z,     2*y*z - 2*w*x],\n",
    "        [    2*x*z - 2*w*y,     2*y*z + 2*w*x, 1 - 2*x*x - 2*y*y]\n",
    "    ])\n",
    "    \n",
    "\n",
    "p_bar = tqdm(range(NUM_GAUSSIANS))\n",
    "curr = 0\n",
    "\n",
    "def compute_normal_from_rotation(row):\n",
    "    cov_matrix = row['cov_matrix']\n",
    "    eigenvalues, eigenvectors = np.linalg.eigh(cov_matrix)\n",
    "    normal = eigenvectors[:, 2]  # Smallest eigenvalue's eigenvector\n",
    "    \n",
    "    global curr\n",
    "    if curr % 1000 == 0:\n",
    "        p_bar.update(1000)\n",
    "        p_bar.refresh()\n",
    "    curr += 1\n",
    "    \n",
    "    return normal, eigenvectors[:, 0], eigenvectors[:, 1], eigenvectors[:, 2], eigenvalues[0], eigenvalues[1], eigenvalues[2]\n",
    "\n",
    "column_filter = [\n",
    "    'normal',\n",
    "    'eigenvector_0',\n",
    "    'eigenvector_1',\n",
    "    'eigenvector_2',\n",
    "    'eigenvalue_0',\n",
    "    'eigenvalue_1',\n",
    "    'eigenvalue_2'\n",
    "]\n",
    "df_new_cols = pd.DataFrame(df.apply(compute_normal_from_rotation, axis=1).tolist(), columns=column_filter)\n",
    "df = pd.concat([df, df_new_cols], axis=1)  # Merge back into df\n",
    "df_normals = df[column_filter + ['x', 'y', 'z']]\n",
    "df_normals.to_csv('normals.csv')"
   ]
  },
  {
   "cell_type": "code",
   "execution_count": 3,
   "id": "b4fa39d4-c9bc-476f-b723-acdc23b010e8",
   "metadata": {},
   "outputs": [],
   "source": [
    "import numpy as np\n",
    "from sklearn.neighbors import BallTree\n",
    "\n",
    "def create_balltree_adjacency_hash(points, k):\n",
    "    \"\"\"\n",
    "    Create an adjacency hash for each point based on a distance threshold k using BallTree for efficient nearest neighbor search.\n",
    "    \n",
    "    Parameters:\n",
    "    - points: (n, 3) numpy array where each row is a 3D point [x, y, z]\n",
    "    - k: distance threshold\n",
    "    \n",
    "    Returns:\n",
    "    - adjacency_hash: a dictionary where each key is a point's index, and the value is a set of neighboring indices\n",
    "    \"\"\"\n",
    "    # Build a BallTree using the points\\\n",
    "    print(\"1\")\n",
    "    tree = BallTree(points)\n",
    "    print(\"2\")\n",
    "    # Query the BallTree for neighbors within distance k for each point\n",
    "    adjacency_hash = {}\n",
    "    for i, point in enumerate(points):\n",
    "        # Query neighbors within distance k\n",
    "        neighbors = tree.query_radius([point], r=k)[0]  # Return indices of neighbors\n",
    "        adjacency_hash[i] = set(neighbors)\n",
    "    print(\"3\")\n",
    "    return {}\n",
    "    return adjacency_hash\n",
    "\n",
    "# Example usage:\n",
    "points = np.array([[0, 0, 0], [1, 1, 1], [2, 2, 2], [10, 10, 10], [1, 2, 3]])  # 5 points in 3D space\n",
    "k = 3  # Distance threshold\n",
    "adjacency_hash = create_balltree_adjacency_hash(points, k)"
   ]
  },
  {
   "cell_type": "code",
   "execution_count": null,
   "id": "4c684eaf-4ba6-4ac9-9a23-d91fff9f400e",
   "metadata": {},
   "outputs": [],
   "source": []
  },
  {
   "cell_type": "code",
   "execution_count": null,
   "id": "93c89d68-e1b8-4602-920f-83da2dc3c688",
   "metadata": {},
   "outputs": [],
   "source": []
  },
  {
   "cell_type": "code",
   "execution_count": null,
   "id": "54433562-fb50-4c17-bc0d-afc7735a0669",
   "metadata": {},
   "outputs": [],
   "source": []
  },
  {
   "cell_type": "code",
   "execution_count": null,
   "id": "e094976d-b2c4-4d2a-9a4e-e8a1e01caa97",
   "metadata": {},
   "outputs": [],
   "source": []
  },
  {
   "cell_type": "code",
   "execution_count": null,
   "id": "aa3e0e34-6bde-4205-bf33-ae256ac6075e",
   "metadata": {},
   "outputs": [],
   "source": []
  },
  {
   "cell_type": "code",
   "execution_count": null,
   "id": "d9578875-38ca-48b4-8a02-bb529b5dbad6",
   "metadata": {},
   "outputs": [],
   "source": []
  },
  {
   "cell_type": "code",
   "execution_count": null,
   "id": "efe469e7-0f10-47d0-9c6c-f9e930c82140",
   "metadata": {},
   "outputs": [],
   "source": []
  },
  {
   "cell_type": "code",
   "execution_count": null,
   "id": "e266c950-65f1-420d-9564-1236ecad050b",
   "metadata": {},
   "outputs": [],
   "source": []
  },
  {
   "cell_type": "code",
   "execution_count": null,
   "id": "f9dd3c5e-01cb-4a62-98d8-a8d7fae73cf2",
   "metadata": {},
   "outputs": [],
   "source": []
  },
  {
   "cell_type": "code",
   "execution_count": null,
   "id": "2aa82287-5258-4439-b323-4aed02723b87",
   "metadata": {},
   "outputs": [],
   "source": []
  },
  {
   "cell_type": "code",
   "execution_count": null,
   "id": "5a7e88f2-8b33-497b-8c3d-8b9e37f6efa8",
   "metadata": {},
   "outputs": [],
   "source": []
  },
  {
   "cell_type": "code",
   "execution_count": null,
   "id": "2dad1b8b-37ca-417d-8e64-2220d47444f1",
   "metadata": {},
   "outputs": [],
   "source": []
  },
  {
   "cell_type": "code",
   "execution_count": null,
   "id": "8091bdd3-2f75-4d13-9dae-9f321bc1d5f1",
   "metadata": {},
   "outputs": [],
   "source": []
  },
  {
   "cell_type": "code",
   "execution_count": null,
   "id": "e13816f3-e87a-4c8d-a206-70ead1ba18f7",
   "metadata": {},
   "outputs": [],
   "source": []
  }
 ],
 "metadata": {
  "kernelspec": {
   "display_name": "Python 3 (ipykernel)",
   "language": "python",
   "name": "python3"
  },
  "language_info": {
   "codemirror_mode": {
    "name": "ipython",
    "version": 3
   },
   "file_extension": ".py",
   "mimetype": "text/x-python",
   "name": "python",
   "nbconvert_exporter": "python",
   "pygments_lexer": "ipython3",
   "version": "3.12.3"
  }
 },
 "nbformat": 4,
 "nbformat_minor": 5
}
