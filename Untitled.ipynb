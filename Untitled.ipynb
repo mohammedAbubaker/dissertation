{
 "cells": [
  {
   "cell_type": "markdown",
   "id": "33f3c9a9-a5a3-41c6-a4cf-2956636ec423",
   "metadata": {},
   "source": [
    "## TODO\n",
    "### TUES\n",
    "#### Calculate contributions per Gaussian along each ray.\n",
    "#### Accumulate the contributions somehow.\n",
    "#### Prune Gaussians repetitively.\n",
    "#### Activate bounding boxes again to visualise surface gaussian detection.\n",
    "### WES - Create complex fractal parametric surfaces. Sample from the parametric surface. Feed parametric sur\n",
    "### THURS - "
   ]
  },
  {
   "cell_type": "code",
   "execution_count": 1,
   "id": "a2699655-d4ae-4864-8080-72c76dd750a0",
   "metadata": {},
   "outputs": [],
   "source": [
    "import copy\n",
    "import ipywidgets\n",
    "import json\n",
    "import kaolin\n",
    "import matplotlib.pyplot as plt\n",
    "import numpy as np\n",
    "import os\n",
    "import torch\n",
    "import torchvision\n",
    "from PIL import Image\n",
    "\n",
    "\n",
    "# Gaussian splatting dependencies\n",
    "from utils.graphics_utils import focal2fov\n",
    "from utils.system_utils import searchForMaxIteration\n",
    "from gaussian_renderer import render, GaussianModel\n",
    "from scene.cameras import Camera as GSCamera\n",
    "\n",
    "def log_tensor(t, name, **kwargs):\n",
    "    print(kaolin.utils.testing.tensor_info(t, name=name, **kwargs))\n",
    "\n",
    "%load_ext autoreload\n",
    "%autoreload 2\n",
    "%matplotlib inline"
   ]
  },
  {
   "cell_type": "code",
   "execution_count": 2,
   "id": "f67a3701-66f5-4e3a-9a61-5170199b30d7",
   "metadata": {},
   "outputs": [],
   "source": [
    "class PipelineParamsNoparse:\n",
    "    \"\"\" Same as PipelineParams but without argument parser. \"\"\"\n",
    "    def __init__(self):\n",
    "        self.convert_SHs_python = False\n",
    "        self.compute_cov3D_python = False\n",
    "        self.debug = False\n",
    "        self.antialiasing = True\n",
    "\n",
    "dirname = os.getcwd()\n",
    "filename = \"point_cloud.ply\"\n",
    "filepath = os.path.join(dirname, filename)\n",
    "gaussians = GaussianModel(3)\n",
    "gaussians.load_ply(filepath) \n",
    "pipeline = PipelineParamsNoparse()\n",
    "background = torch.tensor([0, 0, 0], dtype=torch.float32, device=\"cuda\")\n",
    "resolution = (800, 600)\n",
    "\n",
    "# Dummy camera identifier (e.g. from COLMAP)\n",
    "colmap_id = 0\n",
    "\n",
    "# Rotation matrix R (here, the identity matrix)\n",
    "R=np.array([[-9.9037e-01,  2.3305e-02, -1.3640e-01], [ 1.3838e-01,  1.6679e-01, -9.7623e-01], [-1.6444e-09, -9.8571e-01, -1.6841e-01]]) \n",
    "\n",
    "# Translation vector T (zero translation)\n",
    "T=np.array([6.8159e-09, 2.0721e-10, 2])\n",
    "\n",
    "# Field-of-view in degrees for the x and y directions\n",
    "FoVx=0.69111120\n",
    "FoVy=0.69111120\n",
    "\n",
    "# Depth parameters (these are typically computed during preprocessing)\n",
    "depth_params = {\n",
    "    \"scale\": 1.0,\n",
    "    \"med_scale\": 1.0,\n",
    "    \"offset\": 0.0\n",
    "}\n",
    "\n",
    "# Create a dummy image.\n",
    "# In a real application, you’d load an image (for example, via Image.open(\"path/to/image.jpg\"))\n",
    "\n",
    "# Create a PIL image of size (width, height) = (800, 600) with RGB mode.\n",
    "image = Image.new(\"RGB\", (800, 600), color=\"white\")\n",
    "\n",
    "# Create a dummy inverse-depth map as a 2D numpy array.\n",
    "# Its shape should match (height, width) and contain valid depth values.\n",
    "invdepthmap = np.ones((resolution[1], resolution[0]), dtype=np.float32)\n",
    "\n",
    "# Provide an image name and a unique identifier (uid)\n",
    "image_name = \"dummy_image.jpg\"\n",
    "uid = \"cam01\"\n",
    "\n",
    "# Optional parameters (using defaults for trans, scale, data_device, and testing flags)\n",
    "trans = np.array([0.0, 0.0, 0.0])\n",
    "scale = 1.0\n",
    "data_device = \"cuda\"  # Change to \"cpu\" if you are not using CUDA\n",
    "train_test_exp = False\n",
    "is_test_dataset = False\n",
    "is_test_view = False\n",
    "\n",
    "# --- Instantiate the Gaussian Splat Camera ---\n",
    "\n",
    "test_camera = GSCamera(\n",
    "    resolution, \n",
    "    colmap_id, \n",
    "    R, \n",
    "    T, \n",
    "    FoVx, \n",
    "    FoVy, \n",
    "    depth_params, \n",
    "    image, \n",
    "    invdepthmap, \n",
    "    image_name, \n",
    "    uid,\n",
    "    trans,\n",
    "    scale,\n",
    "    data_device,\n",
    "    train_test_exp,\n",
    "    is_test_dataset,\n",
    "    is_test_view\n",
    ")\n",
    "\n"
   ]
  },
  {
   "cell_type": "code",
   "execution_count": 3,
   "id": "8e9abf04-dcad-4fbb-b25f-f0f26063f04b",
   "metadata": {},
   "outputs": [
    {
     "name": "stdout",
     "output_type": "stream",
     "text": [
      "render: [3, 600, 800] (torch.float32)[cuda:0]  - [min 0.0000, max 0.7313, mean 0.0582] \n",
      "viewspace_points: [17121, 3] (torch.float32)[cuda:0]  - [min 0.0000, max 0.0000, mean 0.0000] \n",
      "visibility_filter: [17121, 1] (torch.int64)[cuda:0]  - [min 0.0000, max 17120.0000, mean 8560.0000] \n",
      "radii: [17121] (torch.int32)[cuda:0]  - [min 3.0000, max 136.0000, mean 25.9674] \n",
      "depth: [1, 600, 800] (torch.float32)[cuda:0]  - [min 0.0000, max 0.6803, mean 0.0673] \n"
     ]
    },
    {
     "data": {
      "text/plain": [
       "<matplotlib.image.AxesImage at 0x7268afc6e370>"
      ]
     },
     "execution_count": 3,
     "metadata": {},
     "output_type": "execute_result"
    },
    {
     "data": {
      "image/png": "[encoded data removed]",
      "text/plain": [
       "<Figure size 640x480 with 1 Axes>"
      ]
     },
     "metadata": {},
     "output_type": "display_data"
    }
   ],
   "source": [
    "render_res = render(test_camera, gaussians, pipeline, background)\n",
    "rendering = render_res[\"render\"]\n",
    "for k in render_res.keys():\n",
    "    log_tensor(render_res[k], k, print_stats=True)\n",
    "plt.imshow((rendering.permute(1, 2, 0) * 255).to(torch.uint8).detach().cpu().numpy())"
   ]
  },
  {
   "cell_type": "markdown",
   "id": "10e46a95-09f5-43f5-befd-5dd5445f3779",
   "metadata": {},
   "source": [
    "# Calculating surface gaussians"
   ]
  },
  {
   "cell_type": "code",
   "execution_count": 5,
   "id": "71da02da-142d-4db9-b55c-2931b70555a9",
   "metadata": {},
   "outputs": [],
   "source": [
    "import cupy as cp\n",
    "from vispy import scene, app\n",
    "import numpy as np\n",
    "import cupy as cp\n",
    "import os\n",
    "import pandas as pd\n",
    "from plyfile import PlyData\n",
    "from math import pi\n",
    "app.use_app('jupyter_rfb')\n",
    "sigmoid = lambda x: 1 / (1 + cp.exp(-x))"
   ]
  },
  {
   "cell_type": "markdown",
   "id": "b90d3892-d438-4852-9a69-9b26d378148f",
   "metadata": {},
   "source": [
    "## Raytracing logic"
   ]
  },
  {
   "cell_type": "markdown",
   "id": "f07a273b-1f40-4a73-bc89-4557c2aff693",
   "metadata": {},
   "source": [
    "### Splats to bounding volumes"
   ]
  },
  {
   "cell_type": "markdown",
   "id": "822890c0-62d3-4d10-9cb7-eefe583a5af3",
   "metadata": {},
   "source": [
    "## Gaussian Model"
   ]
  },
  {
   "cell_type": "code",
   "execution_count": 6,
   "id": "ca562fd4-135b-4cc1-acf9-704d42f48a04",
   "metadata": {},
   "outputs": [
    {
     "name": "stdout",
     "output_type": "stream",
     "text": [
      "<Vispy app, wrapping the jupyter_rfb GUI toolkit>\n"
     ]
    }
   ],
   "source": [
    "print(app.use_app())\n",
    "class Gaussians:\n",
    "    def load_from_ply(self, path):\n",
    "        ply = PlyData.read(path)\n",
    "        vertex_data = ply[\"vertex\"].data\n",
    "        df = pd.DataFrame(vertex_data)\n",
    "\n",
    "        self.n_gaussians = df.shape[0]\n",
    "        \n",
    "        means_mask = [\"x\", \"y\", \"z\"]\n",
    "        quaternions_mask = [\"rot_0\", \"rot_1\", \"rot_2\", \"rot_3\"]\n",
    "        scales_mask = [\"scale_0\", \"scale_1\", \"scale_2\"]\n",
    "        opacities_mask = [\"opacity\"]\n",
    "\n",
    "        self.means = cp.array(df[means_mask].values)\n",
    "        self.quaternions = cp.array(df[quaternions_mask].values)\n",
    "        self.scales = cp.array(df[scales_mask].values)\n",
    "        self.opacities = cp.array(df[opacities_mask].values)\n",
    "        # pass opacities to a sigmoid\n",
    "        self.opacities = sigmoid(self.opacities).reshape((self.n_gaussians, 1))\n",
    "        self.rotations = quaternion_to_rotation_matrix(self.quaternions)\n",
    "        self.scales_d = cp.eye(3)[None, :, :] * (self.scales**2)[:, :, None]\n",
    "        self.scales_i_d = cp.eye(3)[None, :, :] * (1/self.scales**2)[:, :, None]\n",
    "\n",
    "        self.rotations_t = cp.transpose(self.rotations, (0,2,1))\n",
    "        self.scales_d_t = cp.transpose(self.scales_d, (0,2,1)) \n",
    "\n",
    "        # Calculate covariance\n",
    "        self.covariances = self.rotations @ self.scales_d @ self.scales_d_t @ self.rotations_t\n",
    "        self.inv_covariances = cp.linalg.inv(self.covariances)\n",
    "        \n",
    "    def __init__(self, path):\n",
    "        self.means = None\n",
    "        self.quaternions = None\n",
    "        self.scales = None\n",
    "        self.opacities = None\n",
    "        \n",
    "        self.solutions = None\n",
    "    \n",
    "        self.load_from_ply(path)\n",
    "\n",
    "def quaternion_to_rotation_matrix(quaternions):\n",
    "    x = quaternions[:, 3]\n",
    "    y = quaternions[:, 0]\n",
    "    z = quaternions[:, 1]\n",
    "    w = quaternions[:, 2]\n",
    "\n",
    "    xx = x * x\n",
    "    yy = y * y\n",
    "    zz = z * z\n",
    "    xy = x * y\n",
    "    xz = x * z\n",
    "    yz = y * z\n",
    "    xw = x * w\n",
    "    yw = y * w\n",
    "    zw = z * w\n",
    "\n",
    "    n = quaternions.shape[0]\n",
    "    R = cp.empty((n, 3, 3), dtype=quaternions.dtype)\n",
    "\n",
    "    R[:, 0, 0] = 1 - 2 * (yy + zz)\n",
    "    R[:, 0, 1] = 2 * (xy - zw)\n",
    "    R[:, 0, 2] = 2 * (xz + yw)\n",
    "    R[:, 1, 0] = 2 * (xy + zw)\n",
    "    R[:, 1, 1] = 1 - 2 * (xx + zz)\n",
    "    R[:, 1, 2] = 2 * (yz - xw)\n",
    "    R[:, 2, 0] = 2 * (xz - yw)\n",
    "    R[:, 2, 1] = 2 * (yz + xw)\n",
    "    R[:, 2, 2] = 1 - 2 * (xx + yy)\n",
    "\n",
    "    return R\n",
    "\n",
    "def create_bounding_boxes(gaussians: Gaussians):\n",
    "    unit_cube = cp.array(\n",
    "        [\n",
    "            [1.0, 1.0, 1.0],\n",
    "            [1.0, 1.0, -1.0],\n",
    "            [1.0, -1.0, 1.0],\n",
    "            [1.0, -1.0, -1.0],\n",
    "            [-1.0, 1.0, 1.0],\n",
    "            [-1.0, 1.0, -1.0],\n",
    "            [-1.0, -1.0, 1.0],\n",
    "            [-1.0, -1.0, -1.0],\n",
    "        ]\n",
    "    )\n",
    "\n",
    "    # Firstly, we preprocess our GS:\n",
    "    ## Exponentiate scales\n",
    "    scales_exp = cp.exp(gaussians.scales)\n",
    "    ## Normalise quaternions and extract rotation matrix\n",
    "    quaternion_norm = gaussians.quaternions / cp.linalg.norm(gaussians.quaternions)\n",
    "    rotation_matrix = quaternion_to_rotation_matrix(quaternion_norm)\n",
    "\n",
    "    # Secondly, we apply transformations to retrieve bounding boxes for each GS\n",
    "    scaled_vertices = scales_exp[:, None, :] * unit_cube[None, :, :]\n",
    "    rotated_vertices = cp.matmul(scaled_vertices, rotation_matrix.transpose(0, 2, 1))\n",
    "    return rotated_vertices + gaussians.means[:,None,:]\n",
    "    \n",
    "\n",
    "gaussians = Gaussians(\"point_cloud.ply\")\n",
    "boxes = create_bounding_boxes(gaussians)"
   ]
  },
  {
   "cell_type": "markdown",
   "id": "90f5a93f-e2e4-4205-b9d0-c7c1ec05368e",
   "metadata": {},
   "source": [
    "## Bounding boxes visualisation"
   ]
  },
  {
   "cell_type": "code",
   "execution_count": 7,
   "id": "0dd4f252-ee8c-4612-8ad6-cc75d93fd80b",
   "metadata": {},
   "outputs": [
    {
     "data": {
      "application/vnd.jupyter.widget-view+json": {
       "model_id": "4af48c5c400b4f60953aa269cdecee68",
       "version_major": 2,
       "version_minor": 0
      },
      "text/plain": [
       "RFBOutputContext()"
      ]
     },
     "metadata": {},
     "output_type": "display_data"
    },
    {
     "data": {
      "application/vnd.jupyter.widget-view+json": {
       "model_id": "609ecf6e60e840b9a768e5196794909e",
       "version_major": 2,
       "version_minor": 0
      },
      "text/html": [
       "<div class='snapshot-609ecf6e60e840b9a768e5196794909e' style='position:relative;'><img src='data:image/png;base64,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' style='width:800.0px;height:600.0px;' /><div style='position: absolute; top:0; left:0; padding:1px 3px; background: #777; color:#fff; font-size: 90%; font-family:sans-serif; '>snapshot</div></div>"
      ],
      "text/plain": [
       "CanvasBackend(css_height='600px', css_width='800px')"
      ]
     },
     "metadata": {},
     "output_type": "display_data"
    }
   ],
   "source": [
    "edges = np.array([\n",
    "    [0, 1],\n",
    "    [0, 2],\n",
    "    [0, 4],\n",
    "    [1, 3],\n",
    "    [1, 5],\n",
    "    [2, 3],\n",
    "    [2, 6],\n",
    "    [3, 7],\n",
    "    [4, 5],\n",
    "    [4, 6],\n",
    "    [5, 7],\n",
    "    [6, 7]\n",
    "])\n",
    "\n",
    "# Convert the CuPy array to a NumPy array for Vispy.\n",
    "boxes_np = cp.asnumpy(boxes)  # shape (n, 8, 3)\n",
    "\n",
    "# For each box, extract the vertices for its edges.\n",
    "# boxes_np[:, edges, :] results in an array of shape (n, 12, 2, 3)\n",
    "segments = boxes_np[:, edges, :]\n",
    "# Reshape so that each segment (edge) is a separate element:\n",
    "segments = segments.reshape(-1, 2, 3)  # shape (n*12, 2, 3)\n",
    "# Flatten each segment pair into a contiguous list of vertices.\n",
    "# With connect='segments', every pair of vertices is drawn as a separate line.\n",
    "vertices = segments.reshape(-1, 3)  # shape (n*12*2, 3)\n",
    "\n",
    "# --- Create a Vispy Scene and Draw the Lines ---\n",
    "# Create a Vispy canvas.\n",
    "canvas = scene.SceneCanvas(keys='interactive', show=True)\n",
    "view = canvas.central_widget.add_view()\n",
    "\n",
    "# Create a Line visual. The 'connect=\"segments\"' setting means that every two\n",
    "# consecutive vertices in 'vertices' are rendered as a separate line segment.\n",
    "line_visual = scene.visuals.Line(pos=vertices, color='blue', width=2, connect='segments')\n",
    "view.add(line_visual)\n",
    "\n",
    "# Set a turntable camera for intuitive 3D navigation.\n",
    "view.camera = 'turntable'\n",
    "view.camera.fov = 45\n",
    "\n",
    "# Optionally, add a grid or axes if desired:\n",
    "# grid = scene.visuals.GridLines(color='gray')\n",
    "# view.add(grid)\n",
    "\n",
    "# Start the Vispy application event loop.\n",
    "\n",
    "app.run()\n",
    "from IPython.display import display\n",
    "display(canvas.native)"
   ]
  },
  {
   "cell_type": "markdown",
   "id": "3cd62381-55dc-44d6-90dd-b757abd429f6",
   "metadata": {},
   "source": [
    "## Ray generation logic - sphere"
   ]
  },
  {
   "cell_type": "code",
   "execution_count": 8,
   "id": "8b5cfe62-29a5-46f2-901c-cf04f307e3ab",
   "metadata": {},
   "outputs": [],
   "source": [
    "def generate_sphere_rays(center, radius, n):\n",
    "    # Generate random angles for spherical coordinates\n",
    "    theta = cp.random.rand(n, 1) * 2 * cp.pi  # Azimuthal angle\n",
    "    phi = cp.random.rand(n, 1) * cp.pi        # Polar angle\n",
    "\n",
    "    # Spherical to Cartesian conversion\n",
    "    x = radius * cp.sin(phi) * cp.cos(theta)\n",
    "    y = radius * cp.sin(phi) * cp.sin(theta)\n",
    "    z = radius * cp.cos(phi)\n",
    "\n",
    "    # Combine into ray origins\n",
    "    ray_oris = cp.hstack((x, y, z))\n",
    "\n",
    "    # Ray directions pointing outward from the center\n",
    "    ray_dirs = ray_oris - center\n",
    "    # Normalise ray dirs\n",
    "    ray_dirs = ray_dirs / cp.linalg.norm(ray_dirs)\n",
    "\n",
    "    return ray_oris, ray_dirs"
   ]
  },
  {
   "cell_type": "markdown",
   "id": "2943c44d-9639-4dcf-8207-e0a25d3d2828",
   "metadata": {},
   "source": [
    "## Ray visualisation - sphere"
   ]
  },
  {
   "cell_type": "code",
   "execution_count": 9,
   "id": "cf04bc80-ad7b-4c47-b810-e63cd5fb9a41",
   "metadata": {},
   "outputs": [
    {
     "data": {
      "application/vnd.jupyter.widget-view+json": {
       "model_id": "a6e7f02ffa164a9a9f2b1e380bfd43f0",
       "version_major": 2,
       "version_minor": 0
      },
      "text/plain": [
       "RFBOutputContext()"
      ]
     },
     "metadata": {},
     "output_type": "display_data"
    },
    {
     "data": {
      "application/vnd.jupyter.widget-view+json": {
       "model_id": "0546efbb12eb4d16960c25d70e9a6d22",
       "version_major": 2,
       "version_minor": 0
      },
      "text/html": [
       "<div class='snapshot-0546efbb12eb4d16960c25d70e9a6d22' style='position:relative;'><img src='data:image/png;base64,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' style='width:800.0px;height:600.0px;' /><div style='position: absolute; top:0; left:0; padding:1px 3px; background: #777; color:#fff; font-size: 90%; font-family:sans-serif; '>snapshot</div></div>"
      ],
      "text/plain": [
       "CanvasBackend(css_height='600px', css_width='800px')"
      ]
     },
     "metadata": {},
     "output_type": "display_data"
    }
   ],
   "source": [
    "ray_oris, ray_dirs = generate_sphere_rays(cp.array([0,0,0]), 1, 100)\n",
    "ray_length = 100\n",
    "endpoints = ray_oris + ray_dirs * ray_length\n",
    "\n",
    "segments = cp.stack((ray_oris, endpoints), axis=1).reshape(-1, 3)\n",
    "\n",
    "# Convert to NumPy arrays for Vispy\n",
    "vertices = cp.asnumpy(segments)\n",
    "canvas = scene.SceneCanvas(keys='interactive', show=True)\n",
    "view = canvas.central_widget.add_view()\n",
    "\n",
    "line = scene.visuals.Line(pos=vertices, color='blue', width=1, connect='segments', parent=view.scene)\n",
    "\n",
    "view.camera = 'turntable'\n",
    "view.camera.fov = 45\n",
    "app.run()\n",
    "display(canvas.native)"
   ]
  },
  {
   "cell_type": "markdown",
   "id": "3844713c-d192-4e48-961e-d70f716c15ae",
   "metadata": {},
   "source": [
    "## Ray generation logic - box"
   ]
  },
  {
   "cell_type": "markdown",
   "id": "3bca95d5-d46c-4cae-a138-c03031cf83a9",
   "metadata": {},
   "source": [
    "## Ray intersection logic"
   ]
  },
  {
   "cell_type": "code",
   "execution_count": 10,
   "id": "dcfc9fa2-a0eb-48cf-af5f-9db82bb415a9",
   "metadata": {},
   "outputs": [],
   "source": [
    "def get_intersection_masks(ray_oris, ray_dirs, boxes):\n",
    "    n_boxes = boxes.shape[0]\n",
    "    n_rays = ray_oris.shape[0]\n",
    "    \n",
    "    box_min = cp.min(boxes, axis=1)\n",
    "    box_max = cp.max(boxes, axis=1)  \n",
    "    box_min = box_min[None, :, :]  # (1, n, 3)\n",
    "    box_max = box_max[None, :, :]  # (1, n, 3)\n",
    "    ray_origins = ray_oris[:, None, :]  # (r, 1, 3)~\n",
    "    ray_directions = ray_dirs[:, None, :]  # (r, 1, 3)\n",
    "    epsilon = 1e-8\n",
    "    ray_directions = cp.where(cp.abs(ray_directions) < epsilon, epsilon, ray_directions)\n",
    "    \n",
    "    t1 = (box_min - ray_origins) / ray_directions  # (r, n, 3)\n",
    "    t2 = (box_max - ray_origins) / ray_directions  # (r, n, 3)\n",
    "    \n",
    "    t_near = cp.minimum(t1, t2)  # (r, n, 3)\n",
    "    t_far = cp.maximum(t1, t2)  # (r, n, 3)\n",
    "    \n",
    "    # 5. Find the largest t_near and smallest t_far.\n",
    "    t_near_max = cp.max(t_near, axis=2)  # (r, n)\n",
    "    t_far_min = cp.min(t_far, axis=2)  # (r, n)\n",
    "    \n",
    "    intersection_mask = (t_far_min >= 0) & (t_near_max <= t_far_min)\n",
    "    return intersection_mask"
   ]
  },
  {
   "cell_type": "markdown",
   "id": "24d433a1-7e13-46b6-a94c-c63d1e830189",
   "metadata": {},
   "source": [
    "## Ray intersection logic - visualisation"
   ]
  },
  {
   "cell_type": "code",
   "execution_count": 11,
   "id": "e5fa5b3b-fee9-4829-b3a7-68a028e25c5f",
   "metadata": {},
   "outputs": [
    {
     "name": "stdout",
     "output_type": "stream",
     "text": [
      "(1, 17121)\n"
     ]
    },
    {
     "data": {
      "application/vnd.jupyter.widget-view+json": {
       "model_id": "feba9b3af3ed418baacd04967dc82164",
       "version_major": 2,
       "version_minor": 0
      },
      "text/plain": [
       "RFBOutputContext()"
      ]
     },
     "metadata": {},
     "output_type": "display_data"
    },
    {
     "data": {
      "application/vnd.jupyter.widget-view+json": {
       "model_id": "242ab1c352f34786bc45d695ee1ce99f",
       "version_major": 2,
       "version_minor": 0
      },
      "text/html": [
       "<div class='snapshot-242ab1c352f34786bc45d695ee1ce99f' style='position:relative;'><img src='data:image/png;base64,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' style='width:800.0px;height:600.0px;' /><div style='position: absolute; top:0; left:0; padding:1px 3px; background: #777; color:#fff; font-size: 90%; font-family:sans-serif; '>snapshot</div></div>"
      ],
      "text/plain": [
       "CanvasBackend(css_height='600px', css_width='800px')"
      ]
     },
     "metadata": {},
     "output_type": "display_data"
    }
   ],
   "source": [
    "ray_oris = cp.array([[3,3,3]])\n",
    "ray_dirs = cp.array([[-1, -1, -1]])\n",
    "intersection_mask = get_intersection_masks(ray_oris, ray_dirs, boxes)\n",
    "print(intersection_mask.shape)\n",
    "edges = np.array([\n",
    "    [0, 1],\n",
    "    [0, 2],\n",
    "    [0, 4],\n",
    "    [1, 3],\n",
    "    [1, 5],\n",
    "    [2, 3],\n",
    "    [2, 6],\n",
    "    [3, 7],\n",
    "    [4, 5],\n",
    "    [4, 6],\n",
    "    [5, 7],\n",
    "    [6, 7]\n",
    "])\n",
    "\n",
    "\n",
    "boxes_intersected = boxes[intersection_mask[0]]\n",
    "boxes_np = cp.asnumpy(boxes_intersected)  \n",
    "segments = boxes_np[:, edges, :]\n",
    "segments = segments.reshape(-1, 2, 3)  \n",
    "vertices = segments.reshape(-1, 3) \n",
    "\n",
    "canvas = scene.SceneCanvas(keys='interactive', show=True)\n",
    "view = canvas.central_widget.add_view()\n",
    "\n",
    "line_visual = scene.visuals.Line(pos=vertices, color='blue', width=2, connect='segments')\n",
    "view.add(line_visual)\n",
    "\n",
    "ray_length = 5\n",
    "endpoints = ray_oris + ray_dirs * ray_length\n",
    "\n",
    "r_segments = cp.stack((ray_oris, endpoints), axis=1).reshape(-1, 3)\n",
    "r_vertices = cp.asnumpy(r_segments)\n",
    "\n",
    "line = scene.visuals.Line(pos=r_vertices, color='green', width=1, connect='segments', parent=view.scene)\n",
    "view.add(line)\n",
    "\n",
    "view.camera = 'turntable'\n",
    "view.camera.fov = 45\n",
    "view.camera.center = (0,0,0)\n",
    "\n",
    "app.run()\n",
    "display(canvas.native)"
   ]
  },
  {
   "cell_type": "markdown",
   "id": "0d5b7795-b71d-4268-b31e-7fdaa77409a7",
   "metadata": {},
   "source": [
    "## Contribution calculation logic"
   ]
  },
  {
   "cell_type": "markdown",
   "id": "0a8ab25c-f98c-410f-b8eb-ee05b9a79b7a",
   "metadata": {},
   "source": [
    "### Evaluate gaussians"
   ]
  },
  {
   "cell_type": "code",
   "execution_count": 31,
   "id": "db6dee17-9a86-4fd5-95da-8a7e9da37e7a",
   "metadata": {},
   "outputs": [],
   "source": [
    "from vispy.color import Colormap\n",
    "\n",
    "def evaluate_gaussians(point, gaussians):\n",
    "    # point is shape (3,) and gaussians has attributes:\n",
    "    #   means: shape (n, 3)\n",
    "    #   covariances: shape (n, 3, 3)\n",
    "    #   opacities: shape (n,)\n",
    "    result_batches = []\n",
    "    batch_size = int(gaussians.n_gaussians / 3)\n",
    "    n = gaussians.means.shape[0]\n",
    "    for i in range(0, n, batch_size):\n",
    "        batch_means = gaussians.means[i:i+batch_size]      # shape (b, 3)\n",
    "        batch_covs  = gaussians.covariances[i:i+batch_size]  # shape (b, 3, 3)\n",
    "        batch_inv_covs = gaussians.inv_covariances[i:i+batch_size]\n",
    "        batch_rotations = gaussians.rotations[i:i+batch_size]\n",
    "        batch_scales_d = gaussians.scales_d[i:i+batch_size]\n",
    "        batch_opacities = gaussians.opacities[i:i+batch_size]\n",
    "        \n",
    "        diff = point - batch_means\n",
    "        exponent = diff[:, None, :] @ (batch_inv_covs @ diff[..., None])\n",
    "        exponent = exponent.squeeze(-1)\n",
    "        exponent *= -0.5\n",
    "        value = batch_opacities * (1.0 - cp.exp(exponent))\n",
    "        value = cp.where(value < 0.1, 0, value)\n",
    "        result_batches.append(value)\n",
    "     \n",
    "    result = cp.concatenate(result_batches)\n",
    "    return result.flatten()"
   ]
  },
  {
   "cell_type": "code",
   "execution_count": 32,
   "id": "6bb256f7-abd8-4233-a89d-dc771414a8a4",
   "metadata": {},
   "outputs": [
    {
     "data": {
      "application/vnd.jupyter.widget-view+json": {
       "model_id": "5ab7b286c16d446fb229625b952be71e",
       "version_major": 2,
       "version_minor": 0
      },
      "text/plain": [
       "RFBOutputContext()"
      ]
     },
     "metadata": {},
     "output_type": "display_data"
    },
    {
     "data": {
      "application/vnd.jupyter.widget-view+json": {
       "model_id": "68d1cb95c5f94dbaa66abe2934460fdf",
       "version_major": 2,
       "version_minor": 0
      },
      "text/html": [
       "<div class='snapshot-68d1cb95c5f94dbaa66abe2934460fdf' style='position:relative;'><img src='data:image/png;base64,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' style='width:800.0px;height:800.0px;' /><div style='position: absolute; top:0; left:0; padding:1px 3px; background: #777; color:#fff; font-size: 90%; font-family:sans-serif; '>snapshot</div></div>"
      ],
      "text/plain": [
       "CanvasBackend(css_height='800px', css_width='800px')"
      ]
     },
     "metadata": {},
     "output_type": "display_data"
    }
   ],
   "source": [
    "from vispy.color import Colormap\n",
    "\n",
    "def visualise_gaussian_evaluations(gaussians):\n",
    "    point = cp.array([0, 0, 0])\n",
    "    values = evaluate_gaussians(point, gaussians)  # Shape: (n,1)\n",
    "    values_np = cp.asnumpy(values).flatten()\n",
    "    means_np = cp.asnumpy(gaussians.means)\n",
    "    \n",
    "    # Filter out gaussians with value == 0\n",
    "    nonzero_mask = values_np != 0\n",
    "    filtered_means = means_np[nonzero_mask]\n",
    "    filtered_values = values_np[nonzero_mask]\n",
    "    \n",
    "    # Create the Vispy canvas and view\n",
    "    canvas = scene.SceneCanvas(keys='interactive', show=True, bgcolor='black', size=(800, 800))\n",
    "    view = canvas.central_widget.add_view()\n",
    "    \n",
    "    # Map gaussian values to a grayscale colormap (0 -> black, 1 -> white)\n",
    "    cmap = Colormap(['black', 'white'])\n",
    "    colors = cmap.map(filtered_values)  # returns RGBA values for each point\n",
    "    \n",
    "    # Create a marker visual for the filtered gaussian means\n",
    "    markers = scene.visuals.Markers()\n",
    "    markers.set_data(filtered_means, face_color=colors, size=5)\n",
    "    view.add(markers)\n",
    "    \n",
    "    # Also add a distinct marker for the evaluation point (rendered in red)\n",
    "    point_marker = scene.visuals.Markers()\n",
    "    point_marker.set_data(np.array([[0, 0, 0]]), face_color='red', size=10)\n",
    "    view.add(point_marker)\n",
    "    view.camera = scene.cameras.TurntableCamera(fov=45, distance=5, center=(0, 0, 0))\n",
    "    app.run()\n",
    "    display(canvas.native)\n",
    "visualise_gaussian_evaluations(gaussians)"
   ]
  },
  {
   "cell_type": "markdown",
   "id": "70acb287-f9e1-423e-804d-37632311519d",
   "metadata": {},
   "source": [
    "### argmax(GS(ray_ori, ray_dir)) logic"
   ]
  },
  {
   "cell_type": "code",
   "execution_count": 50,
   "id": "5193316d-7447-4be8-9852-2621664eaf8c",
   "metadata": {},
   "outputs": [],
   "source": [
    "from tqdm import trange\n",
    "\n",
    "def get_max_gaussians(ray_ori, ray_dir, gaussians):\n",
    "    inv_covs = cp.linalg.inv(gaussians.covariances)\n",
    "\n",
    "    dx_t = gaussians.means - ray_ori\n",
    "    numerators =  cp.tile(ray_dir, (gaussians.n_gaussians, 1))[:,None,:] @ (inv_covs @ dx_t[..., None])\n",
    "\n",
    "    denomenators = cp.tile(ray_dir, (gaussians.n_gaussians, 1))[:,None,:] @ inv_covs @ cp.tile(ray_dir, (gaussians.n_gaussians, 1))[..., None]\n",
    "    t_values = numerators / (denomenators + 1e-4)\n",
    "    points = ray_ori + t_values * ray_dir\n",
    "    values = cp.zeros(gaussians.n_gaussians)\n",
    "\n",
    "    for i in trange(len(points)):\n",
    "        if i > 1:\n",
    "            continue\n",
    "        values += evaluate_gaussians(points[i], gaussians)\n",
    "        if (cp.min(values) != 0):\n",
    "            print(cp.min(values))\n",
    "    return values"
   ]
  },
  {
   "cell_type": "code",
   "execution_count": 58,
   "id": "a3c845c9-70bc-4bde-99d9-26848b0813f9",
   "metadata": {},
   "outputs": [
    {
     "name": "stderr",
     "output_type": "stream",
     "text": [
      "100%|███████████████████████████████████████████████████████████████| 17121/17121 [00:00<00:00, 709521.58it/s]"
     ]
    },
    {
     "name": "stdout",
     "output_type": "stream",
     "text": [
      "0.0\n"
     ]
    },
    {
     "name": "stderr",
     "output_type": "stream",
     "text": [
      "\n"
     ]
    }
   ],
   "source": [
    "def get_contributions(ray_ori, ray_dir, gaussians, intersection_mask):\n",
    "    boxes = create_bounding_boxes(gaussians)\n",
    "    alphas = (intersection_mask.astype(cp.float32)).squeeze() * (get_max_gaussians(ray_ori, ray_dir, gaussians)).squeeze()\n",
    "    print(cp.min(alphas))\n",
    "    # Sort indices based on the z-coordinate of the gaussian means\n",
    "    sort_idx = cp.argsort(gaussians.means[:, 2])\n",
    "    alphas_sorted = alphas[sort_idx]\n",
    "    # Compute the cumulative product of (1 - alphas) to obtain transmittance in sorted order\n",
    "    transmittance = cp.cumprod(1 - alphas_sorted).reshape((gaussians.n_gaussians, 1))\n",
    "    # Compute the inverse permutation to unsort the transmittance back to the original gaussian index order\n",
    "    unsort_idx = cp.argsort(sort_idx)\n",
    "    contributions = transmittance[unsort_idx]\n",
    "    return contributions\n",
    "average_contribution = cp.zeros((gaussians.n_gaussians, 1))\n",
    "intersection_masks = get_intersection_masks(ray_oris, ray_dirs, boxes)\n",
    "for i in range(ray_oris.shape[0]):\n",
    "    ray_ori = ray_oris[i]\n",
    "    ray_dir = ray_dirs[i]\n",
    "    intersection_mask = intersection_masks[i].reshape(gaussians.n_gaussians, 1)\n",
    "    contributions = get_contributions(ray_ori, ray_dir, gaussians, intersection_mask)\n",
    "    average_contribution += contributions"
   ]
  },
  {
   "cell_type": "code",
   "execution_count": 20,
   "id": "58e28806-79bf-419e-9c59-6a101919148e",
   "metadata": {},
   "outputs": [
    {
     "name": "stdout",
     "output_type": "stream",
     "text": [
      "0.9950292846186086\n"
     ]
    },
    {
     "data": {
      "image/png": "[encoded data removed]",
      "text/plain": [
       "<Figure size 640x480 with 1 Axes>"
      ]
     },
     "metadata": {},
     "output_type": "display_data"
    }
   ],
   "source": [
    "plt.plot(average_contribution.get())\n",
    "print(cp.min(average_contribution))"
   ]
  },
  {
   "cell_type": "code",
   "execution_count": null,
   "id": "d027963f-abdc-4c57-9eeb-441ed2310da0",
   "metadata": {},
   "outputs": [],
   "source": [
    "from vispy.color import get_colormap\n",
    "\n",
    "def visualize_contributions(ray_ori, ray_dir, gaussians, contributions):\n",
    "\n",
    "    ray_ori = cp.asnumpy(ray_ori)\n",
    "    ray_dir = cp.asnumpy(ray_dir)\n",
    "    centers = cp.asnumpy(gaussians.means)  # assuming shape (n_gaussians, 3)\n",
    "    contributions = cp.asnumpy(contributions).flatten()  # ensure a 1D array\n",
    "    canvas = scene.SceneCanvas(keys='interactive', size=(800, 600), show=True)\n",
    "    view = canvas.central_widget.add_view()\n",
    "    view.camera = 'turntable'  # enables mouse-driven 3D rotation\n",
    "\n",
    "    # --- Draw the original ray ---\n",
    "    # Here we choose an arbitrary length for visualization\n",
    "    ray_length = 10.0\n",
    "    ray_end = ray_ori + ray_dir * ray_length\n",
    "    ray_positions = np.array([ray_ori, ray_end])\n",
    "    ray_line = scene.visuals.Line(pos=ray_positions, color='red', width=2)\n",
    "    view.add(ray_line)\n",
    "\n",
    "    # --- Normalize contributions ---\n",
    "    # Avoid division by zero if contributions are constant.\n",
    "    contrib_min = contributions.min()\n",
    "  \n",
    "    contrib_max = contributions.max()\n",
    "    norm_contrib = (contributions - contrib_min) / (contrib_max - contrib_min + 1e-8)\n",
    "    print(np.max(n))\n",
    "    # --- Map normalized contributions to colors using a colormap ---\n",
    "    cmap = get_colormap('viridis')\n",
    "    colors = cmap.map(norm_contrib)\n",
    "    # --- Create a marker for each mean ---\n",
    "    markers = scene.visuals.Markers()\n",
    "    markers.set_data(centers, face_color=colors, size=10)\n",
    "    view.add(markers)\n",
    "        \n",
    "\n",
    "    # Start the Vispy app event loop\n",
    "    app.run()\n",
    "    display(canvas.native)\n",
    "print(average_contribution)\n",
    "visualize_contributions(ray_oris[0], ray_dirs[0], gaussians, average_contribution)"
   ]
  },
  {
   "cell_type": "markdown",
   "id": "3cfc3f10-f6f7-485f-b24f-e6930459e4be",
   "metadata": {},
   "source": [
    "## Surface GS extraction logic"
   ]
  },
  {
   "cell_type": "markdown",
   "id": "f45dd342-a58b-495a-8822-23f0634d6a7d",
   "metadata": {},
   "source": [
    "## FEM-GS visualisation logic"
   ]
  },
  {
   "cell_type": "markdown",
   "id": "a86faaff-6971-40f9-942f-6930e786a5b4",
   "metadata": {},
   "source": [
    "## "
   ]
  },
  {
   "cell_type": "code",
   "execution_count": null,
   "id": "3209ee6f-7415-4933-be13-933189b19875",
   "metadata": {},
   "outputs": [],
   "source": []
  },
  {
   "cell_type": "code",
   "execution_count": null,
   "id": "e18c49ef-a9e1-47ce-91e2-8f4094372b5c",
   "metadata": {},
   "outputs": [],
   "source": []
  },
  {
   "cell_type": "code",
   "execution_count": null,
   "id": "928110cd-bf01-4f53-b9ca-93c930bf993e",
   "metadata": {},
   "outputs": [],
   "source": []
  },
  {
   "cell_type": "code",
   "execution_count": null,
   "id": "355050a3-385c-42d7-af7b-ff548efaa0cf",
   "metadata": {},
   "outputs": [],
   "source": []
  },
  {
   "cell_type": "code",
   "execution_count": null,
   "id": "c83aa101-0526-4fd0-a210-65ce02751040",
   "metadata": {},
   "outputs": [],
   "source": []
  },
  {
   "cell_type": "code",
   "execution_count": null,
   "id": "bf0c88a4-3942-4183-9cbe-2b7dce59d183",
   "metadata": {},
   "outputs": [],
   "source": []
  },
  {
   "cell_type": "code",
   "execution_count": null,
   "id": "22c185a1-04dc-419a-8db5-ca5d833c7ab1",
   "metadata": {},
   "outputs": [],
   "source": []
  },
  {
   "cell_type": "code",
   "execution_count": null,
   "id": "ef50f74a-d56c-45e6-9351-0340cfe07c8a",
   "metadata": {},
   "outputs": [],
   "source": []
  },
  {
   "cell_type": "code",
   "execution_count": null,
   "id": "bb53c1d8-180b-47cb-ad9f-6dd903984075",
   "metadata": {},
   "outputs": [],
   "source": []
  },
  {
   "cell_type": "code",
   "execution_count": null,
   "id": "b98d9636-70a1-4615-89b7-bb8fa3926a73",
   "metadata": {},
   "outputs": [],
   "source": []
  }
 ],
 "metadata": {
  "kernelspec": {
   "display_name": "Python 3 (ipykernel)",
   "language": "python",
   "name": "python3"
  },
  "language_info": {
   "codemirror_mode": {
    "name": "ipython",
    "version": 3
   },
   "file_extension": ".py",
   "mimetype": "text/x-python",
   "name": "python",
   "nbconvert_exporter": "python",
   "pygments_lexer": "ipython3",
   "version": "3.9.21"
  }
 },
 "nbformat": 4,
 "nbformat_minor": 5
}
