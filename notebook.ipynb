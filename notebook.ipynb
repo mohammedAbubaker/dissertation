{
 "cells": [
  {
   "cell_type": "markdown",
   "id": "33f3c9a9-a5a3-41c6-a4cf-2956636ec423",
   "metadata": {},
   "source": [
    "## TODO"
   ]
  },
  {
   "cell_type": "code",
   "execution_count": 647,
   "id": "a2699655-d4ae-4864-8080-72c76dd750a0",
   "metadata": {},
   "outputs": [
    {
     "name": "stdout",
     "output_type": "stream",
     "text": [
      "The autoreload extension is already loaded. To reload it, use:\n",
      "  %reload_ext autoreload\n"
     ]
    }
   ],
   "source": [
    "import copy\n",
    "import ipywidgets\n",
    "import json\n",
    "import kaolin\n",
    "import matplotlib.pyplot as plt\n",
    "import numpy as np\n",
    "import os\n",
    "import torch\n",
    "import torchvision\n",
    "from PIL import Image\n",
    "\n",
    "\n",
    "# Gaussian splatting dependencies\n",
    "from utils.graphics_utils import focal2fov\n",
    "from utils.system_utils import searchForMaxIteration\n",
    "from gaussian_renderer import render, GaussianModel\n",
    "from scene.cameras import Camera as GSCamera\n",
    "\n",
    "def log_tensor(t, name, **kwargs):\n",
    "    print(kaolin.utils.testing.tensor_info(t, name=name, **kwargs))\n",
    "\n",
    "%load_ext autoreload\n",
    "%autoreload 2\n",
    "%matplotlib inline"
   ]
  },
  {
   "cell_type": "code",
   "execution_count": 648,
   "id": "f67a3701-66f5-4e3a-9a61-5170199b30d7",
   "metadata": {},
   "outputs": [],
   "source": [
    "class PipelineParamsNoparse:\n",
    "    \"\"\" Same as PipelineParams but without argument parser. \"\"\"\n",
    "    def __init__(self):\n",
    "        self.convert_SHs_python = False\n",
    "        self.compute_cov3D_python = False\n",
    "        self.debug = False\n",
    "        self.antialiasing = True\n",
    "\n",
    "dirname = os.getcwd()\n",
    "filename = \"point_cloud.ply\"\n",
    "filepath = os.path.join(dirname, filename)\n",
    "gaussians = GaussianModel(3)\n",
    "gaussians.load_ply(filepath) \n",
    "pipeline = PipelineParamsNoparse()\n",
    "background = torch.tensor([0, 0, 0], dtype=torch.float32, device=\"cuda\")\n",
    "resolution = (800, 600)\n",
    "\n",
    "# Dummy camera identifier (e.g. from COLMAP)\n",
    "colmap_id = 0\n",
    "\n",
    "# Rotation matrix R (here, the identity matrix)\n",
    "R=np.array([[-9.9037e-01,  2.3305e-02, -1.3640e-01], [ 1.3838e-01,  1.6679e-01, -9.7623e-01], [-1.6444e-09, -9.8571e-01, -1.6841e-01]]) \n",
    "\n",
    "# Translation vector T (zero translation)\n",
    "T=np.array([6.8159e-09, 2.0721e-10, 2])\n",
    "\n",
    "# Field-of-view in degrees for the x and y directions\n",
    "FoVx=0.69111120\n",
    "FoVy=0.69111120\n",
    "\n",
    "# Depth parameters (these are typically computed during preprocessing)\n",
    "depth_params = {\n",
    "    \"scale\": 1.0,\n",
    "    \"med_scale\": 1.0,\n",
    "    \"offset\": 0.0\n",
    "}\n",
    "\n",
    "# Create a dummy image.\n",
    "# In a real application, you’d load an image (for example, via Image.open(\"path/to/image.jpg\"))\n",
    "\n",
    "# Create a PIL image of size (width, height) = (800, 600) with RGB mode.\n",
    "image = Image.new(\"RGB\", (800, 600), color=\"white\")\n",
    "\n",
    "# Create a dummy inverse-depth map as a 2D numpy array.\n",
    "# Its shape should match (height, width) and contain valid depth values.\n",
    "invdepthmap = np.ones((resolution[1], resolution[0]), dtype=np.float32)\n",
    "\n",
    "# Provide an image name and a unique identifier (uid)\n",
    "image_name = \"dummy_image.jpg\"\n",
    "uid = \"cam01\"\n",
    "\n",
    "# Optional parameters (using defaults for trans, scale, data_device, and testing flags)\n",
    "trans = np.array([0.0, 0.0, 0.0])\n",
    "scale = 1.0\n",
    "data_device = \"cuda\"  # Change to \"cpu\" if you are not using CUDA\n",
    "train_test_exp = False\n",
    "is_test_dataset = False\n",
    "is_test_view = False\n",
    "\n",
    "# --- Instantiate the Gaussian Splat Camera ---\n",
    "\n",
    "test_camera = GSCamera(\n",
    "    resolution, \n",
    "    colmap_id, \n",
    "    R, \n",
    "    T, \n",
    "    FoVx, \n",
    "    FoVy, \n",
    "    depth_params, \n",
    "    image, \n",
    "    invdepthmap, \n",
    "    image_name, \n",
    "    uid,\n",
    "    trans,\n",
    "    scale,\n",
    "    data_device,\n",
    "    train_test_exp,\n",
    "    is_test_dataset,\n",
    "    is_test_view\n",
    ")\n",
    "\n"
   ]
  },
  {
   "cell_type": "code",
   "execution_count": 649,
   "id": "8e9abf04-dcad-4fbb-b25f-f0f26063f04b",
   "metadata": {},
   "outputs": [
    {
     "name": "stdout",
     "output_type": "stream",
     "text": [
      "render: [3, 600, 800] (torch.float32)[cuda:0]  - [min 0.0000, max 0.7313, mean 0.0582] \n",
      "viewspace_points: [17121, 3] (torch.float32)[cuda:0]  - [min 0.0000, max 0.0000, mean 0.0000] \n",
      "visibility_filter: [17121, 1] (torch.int64)[cuda:0]  - [min 0.0000, max 17120.0000, mean 8560.0000] \n",
      "radii: [17121] (torch.int32)[cuda:0]  - [min 3.0000, max 136.0000, mean 25.9674] \n",
      "depth: [1, 600, 800] (torch.float32)[cuda:0]  - [min 0.0000, max 0.6803, mean 0.0673] \n"
     ]
    },
    {
     "data": {
      "text/plain": [
       "<matplotlib.image.AxesImage at 0x7ba1a3db2850>"
      ]
     },
     "execution_count": 649,
     "metadata": {},
     "output_type": "execute_result"
    },
    {
     "data": {
      "image/png": "[encoded data removed]",
      "text/plain": [
       "<Figure size 640x480 with 1 Axes>"
      ]
     },
     "metadata": {},
     "output_type": "display_data"
    }
   ],
   "source": [
    "render_res = render(test_camera, gaussians, pipeline, background)\n",
    "rendering = render_res[\"render\"]\n",
    "for k in render_res.keys():\n",
    "    log_tensor(render_res[k], k, print_stats=True)\n",
    "plt.imshow((rendering.permute(1, 2, 0) * 255).to(torch.uint8).detach().cpu().numpy())"
   ]
  },
  {
   "cell_type": "markdown",
   "id": "10e46a95-09f5-43f5-befd-5dd5445f3779",
   "metadata": {},
   "source": [
    "# Calculating surface gaussians"
   ]
  },
  {
   "cell_type": "code",
   "execution_count": 650,
   "id": "71da02da-142d-4db9-b55c-2931b70555a9",
   "metadata": {},
   "outputs": [],
   "source": [
    "import cupy as cp\n",
    "from vispy import scene, app\n",
    "import numpy as np\n",
    "import cupy as cp\n",
    "import os\n",
    "import pandas as pd\n",
    "from plyfile import PlyData\n",
    "from math import pi\n",
    "app.use_app('jupyter_rfb')\n",
    "sigmoid = lambda x: 1 / (1 + cp.exp(-x))"
   ]
  },
  {
   "cell_type": "markdown",
   "id": "b90d3892-d438-4852-9a69-9b26d378148f",
   "metadata": {},
   "source": [
    "## Raytracing logic"
   ]
  },
  {
   "cell_type": "markdown",
   "id": "f07a273b-1f40-4a73-bc89-4557c2aff693",
   "metadata": {},
   "source": [
    "### Splats to bounding volumes"
   ]
  },
  {
   "cell_type": "markdown",
   "id": "822890c0-62d3-4d10-9cb7-eefe583a5af3",
   "metadata": {},
   "source": [
    "## Gaussian Model"
   ]
  },
  {
   "cell_type": "code",
   "execution_count": 717,
   "id": "ca562fd4-135b-4cc1-acf9-704d42f48a04",
   "metadata": {},
   "outputs": [
    {
     "name": "stdout",
     "output_type": "stream",
     "text": [
      "<Vispy app, wrapping the jupyter_rfb GUI toolkit>\n"
     ]
    }
   ],
   "source": [
    "print(app.use_app())\n",
    "class Gaussians:\n",
    "    def post_process(self):\n",
    "        self.n_gaussians = self.opacities.shape[0]\n",
    "         # pass opacities to a sigmoid\n",
    "\n",
    "        self.normalised_quaternions = self.quaternions / cp.linalg.norm(self.quaternions, axis=1, keepdims=True)\n",
    "        self.rotations = quaternion_to_rotation_matrix(self.normalised_quaternions)\n",
    "        self.scales_exp = cp.exp(self.scales)\n",
    "        self.scales_d = cp.eye(3)[None, :, :] * (self.scales_exp)[:, :, None]\n",
    "        self.scales_d **= 2\n",
    "        self.scales_i_d = cp.eye(3)[None, :, :] * (1/self.scales_exp)[:, :, None]\n",
    "        self.scales_i_d **= 2\n",
    "\n",
    "        self.rotations_t = cp.transpose(self.rotations, (0,2,1))\n",
    "        self.scales_d_t = cp.transpose(self.scales_d, (0,2,1)) \n",
    "\n",
    "        # Calculate covariance\n",
    "        self.covariances = self.rotations @ self.scales_d @ self.rotations_t\n",
    "        self.inv_covariances = self.rotations @ self.scales_i_d @ self.rotations_t \n",
    "\n",
    "        self.opacities = sigmoid(self.opacities).reshape((self.n_gaussians, 1))\n",
    "       \n",
    "    \n",
    "    def load_from_ply(self, path):\n",
    "        ply = PlyData.read(path)\n",
    "        vertex_data = ply[\"vertex\"].data\n",
    "        df = pd.DataFrame(vertex_data)\n",
    "\n",
    "\n",
    "        \n",
    "        means_mask = [\"x\", \"y\", \"z\"]\n",
    "        quaternions_mask = [\"rot_0\", \"rot_1\", \"rot_2\", \"rot_3\"]\n",
    "        scales_mask = [\"scale_0\", \"scale_1\", \"scale_2\"]\n",
    "        opacities_mask = [\"opacity\"]\n",
    "\n",
    "        self.means = cp.array(df[means_mask].values)\n",
    "        self.quaternions = cp.array(df[quaternions_mask].values)\n",
    "        self.scales = cp.array(df[scales_mask].values)\n",
    "        self.opacities = cp.array(df[opacities_mask].values)\n",
    "        self.post_process()\n",
    "\n",
    "    def at(self, index=0):\n",
    "        selected_gaussian = Gaussians(None)\n",
    "        selected_gaussian.means = cp.array([self.means[index]])\n",
    "        selected_gaussian.scales = cp.array([self.scales[index]])\n",
    "        selected_gaussian.quaternions = cp.array([self.quaternions[index]])\n",
    "        selected_gaussian.opacities = cp.array([self.opacities[index]])\n",
    "\n",
    "        selected_gaussian.rotations = cp.array([self.rotations[index]])\n",
    "        selected_gaussian.covariances = cp.array([self.covariances[index]])\n",
    "        selected_gaussian.inv_covariances = cp.array([self.inv_covariances[index]])\n",
    "\n",
    "     \n",
    "        return selected_gaussian\n",
    "\n",
    "        \n",
    "    def __init__(self, path):\n",
    "        self.means = None\n",
    "        self.quaternions = None\n",
    "        self.scales = None\n",
    "        self.opacities = None\n",
    "        \n",
    "        self.solutions = None\n",
    "\n",
    "        if path is not None:\n",
    "            self.load_from_ply(path)\n",
    "            \n",
    "\n",
    "\n",
    "def quaternion_to_rotation_matrix(quaternions):\n",
    "    x = quaternions[:, 1]\n",
    "    y = quaternions[:, 2]\n",
    "    z = quaternions[:, 3]\n",
    "    w = quaternions[:, 0]\n",
    "\n",
    "    xx = x * x\n",
    "    yy = y * y\n",
    "    zz = z * z\n",
    "    xy = x * y\n",
    "    xz = x * z\n",
    "    yz = y * z\n",
    "    xw = x * w\n",
    "    yw = y * w\n",
    "    zw = z * w\n",
    "\n",
    "    n = quaternions.shape[0]\n",
    "    R = cp.empty((n, 3, 3), dtype=quaternions.dtype)\n",
    "\n",
    "    R[:, 0, 0] = 1 - 2 * (yy + zz)\n",
    "    R[:, 0, 1] = 2 * (xy - zw)\n",
    "    R[:, 0, 2] = 2 * (xz + yw)\n",
    "    R[:, 1, 0] = 2 * (xy + zw)\n",
    "    R[:, 1, 1] = 1 - 2 * (xx + zz)\n",
    "    R[:, 1, 2] = 2 * (yz - xw)\n",
    "    R[:, 2, 0] = 2 * (xz - yw)\n",
    "    R[:, 2, 1] = 2 * (yz + xw)\n",
    "    R[:, 2, 2] = 1 - 2 * (xx + yy)\n",
    "\n",
    "    return R\n",
    "\n",
    "def create_bounding_boxes(gaussians: Gaussians):\n",
    "    unit_cube = cp.array(\n",
    "        [\n",
    "            [1.0, 1.0, 1.0],\n",
    "            [1.0, 1.0, -1.0],\n",
    "            [1.0, -1.0, 1.0],\n",
    "            [1.0, -1.0, -1.0],\n",
    "            [-1.0, 1.0, 1.0],\n",
    "            [-1.0, 1.0, -1.0],\n",
    "            [-1.0, -1.0, 1.0],\n",
    "            [-1.0, -1.0, -1.0],\n",
    "        ]\n",
    "    )\n",
    "    \n",
    "    # Shape: (N, 8, 3)\n",
    "    scaled_vertices = gaussians.scales_exp[:, None, :] * unit_cube[None, :, :]\n",
    "    \n",
    "    # Rotations: (N, 3, 3)\n",
    "    # scaled_vertices.transpose(0, 2, 1): (N, 3, 8)\n",
    "    # Multiply => (N, 3, 8)\n",
    "    # Then transpose back => (N, 8, 3)\n",
    "    rotated_vertices = (gaussians.rotations @ scaled_vertices.transpose(0, 2, 1)).transpose(0, 2, 1)\n",
    "\n",
    "    # Finally translate by the means: shape (N, 3) => broadcast to (N, 8, 3)\n",
    "    return rotated_vertices + gaussians.means[:, None, :]\n",
    "\n",
    "gaussians = Gaussians(\"point_cloud.ply\")\n",
    "boxes = create_bounding_boxes(gaussians)"
   ]
  },
  {
   "cell_type": "markdown",
   "id": "93de9ccd-71bd-4e04-a4f7-bfda7ff1f714",
   "metadata": {},
   "source": [
    "## Verifying covariance calculations"
   ]
  },
  {
   "cell_type": "code",
   "execution_count": 652,
   "id": "d10b20c3-fa6b-4723-b4bb-bb2b1bb8411c",
   "metadata": {},
   "outputs": [
    {
     "name": "stdout",
     "output_type": "stream",
     "text": [
      "hell\n"
     ]
    }
   ],
   "source": [
    "def visualise_covariance_matrix(gaussians):\n",
    "    selected_covariance = gaussians.at(0)\n",
    "    \n",
    "\n",
    "visualise_covariance_matrix(gaussians)"
   ]
  },
  {
   "cell_type": "markdown",
   "id": "90f5a93f-e2e4-4205-b9d0-c7c1ec05368e",
   "metadata": {},
   "source": [
    "## Bounding boxes visualisation"
   ]
  },
  {
   "cell_type": "code",
   "execution_count": 653,
   "id": "0dd4f252-ee8c-4612-8ad6-cc75d93fd80b",
   "metadata": {},
   "outputs": [
    {
     "data": {
      "application/vnd.jupyter.widget-view+json": {
       "model_id": "ab5b46d45af14017a4ccde7111be9dea",
       "version_major": 2,
       "version_minor": 0
      },
      "text/plain": [
       "RFBOutputContext()"
      ]
     },
     "metadata": {},
     "output_type": "display_data"
    },
    {
     "data": {
      "application/vnd.jupyter.widget-view+json": {
       "model_id": "8244df5c65774a1fbe709a9889b05b9d",
       "version_major": 2,
       "version_minor": 0
      },
      "text/html": [
       "<div class='snapshot-8244df5c65774a1fbe709a9889b05b9d' style='position:relative;'><img src='data:image/png;base64,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' style='width:800.0px;height:600.0px;' /><div style='position: absolute; top:0; left:0; padding:1px 3px; background: #777; color:#fff; font-size: 90%; font-family:sans-serif; '>snapshot</div></div>"
      ],
      "text/plain": [
       "CanvasBackend(css_height='600px', css_width='800px')"
      ]
     },
     "metadata": {},
     "output_type": "display_data"
    }
   ],
   "source": [
    "edges = np.array([\n",
    "    [0, 1],\n",
    "    [0, 2],\n",
    "    [0, 4],\n",
    "    [1, 3],\n",
    "    [1, 5],\n",
    "    [2, 3],\n",
    "    [2, 6],\n",
    "    [3, 7],\n",
    "    [4, 5],\n",
    "    [4, 6],\n",
    "    [5, 7],\n",
    "    [6, 7]\n",
    "])\n",
    "\n",
    "# Convert the CuPy array to a NumPy array for Vispy.\n",
    "boxes_np = cp.asnumpy(boxes)  # shape (n, 8, 3)\n",
    "\n",
    "# For each box, extract the vertices for its edges.\n",
    "# boxes_np[:, edges, :] results in an array of shape (n, 12, 2, 3)\n",
    "segments = boxes_np[:, edges, :]\n",
    "# Reshape so that each segment (edge) is a separate element:\n",
    "segments = segments.reshape(-1, 2, 3)  # shape (n*12, 2, 3)\n",
    "# Flatten each segment pair into a contiguous list of vertices.\n",
    "# With connect='segments', every pair of vertices is drawn as a separate line.\n",
    "vertices = segments.reshape(-1, 3)  # shape (n*12*2, 3)\n",
    "\n",
    "# --- Create a Vispy Scene and Draw the Lines ---\n",
    "# Create a Vispy canvas.\n",
    "canvas = scene.SceneCanvas(keys='interactive', show=True)\n",
    "view = canvas.central_widget.add_view()\n",
    "\n",
    "# Create a Line visual. The 'connect=\"segments\"' setting means that every two\n",
    "# consecutive vertices in 'vertices' are rendered as a separate line segment.\n",
    "line_visual = scene.visuals.Line(pos=vertices, color='blue', width=2, connect='segments')\n",
    "view.add(line_visual)\n",
    "\n",
    "# Set a turntable camera for intuitive 3D navigation.\n",
    "view.camera = 'turntable'\n",
    "view.camera.fov = 45\n",
    "\n",
    "# Optionally, add a grid or axes if desired:\n",
    "# grid = scene.visuals.GridLines(color='gray')\n",
    "# view.add(grid)\n",
    "\n",
    "# Start the Vispy application event loop.\n",
    "\n",
    "app.run()\n",
    "from IPython.display import display\n",
    "display(canvas.native)"
   ]
  },
  {
   "cell_type": "markdown",
   "id": "3cd62381-55dc-44d6-90dd-b757abd429f6",
   "metadata": {},
   "source": [
    "## Ray generation logic - sphere"
   ]
  },
  {
   "cell_type": "code",
   "execution_count": 654,
   "id": "8b5cfe62-29a5-46f2-901c-cf04f307e3ab",
   "metadata": {},
   "outputs": [],
   "source": [
    "def generate_sphere_rays(center, radius, n):\n",
    "    # Generate random angles for spherical coordinates\n",
    "    theta = cp.random.rand(n, 1) * 2 * cp.pi  # Azimuthal angle\n",
    "    phi = cp.random.rand(n, 1) * cp.pi        # Polar angle\n",
    "\n",
    "    # Spherical to Cartesian conversion\n",
    "    x = radius * cp.sin(phi) * cp.cos(theta)\n",
    "    y = radius * cp.sin(phi) * cp.sin(theta)\n",
    "    z = radius * cp.cos(phi)\n",
    "\n",
    "    # Combine into ray origins\n",
    "    ray_oris = cp.hstack((x, y, z))\n",
    "\n",
    "    # Ray directions pointing outward from the center\n",
    "    ray_dirs = ray_oris - center\n",
    "    # Normalise ray dirs\n",
    "    ray_dirs = ray_dirs / cp.linalg.norm(ray_dirs)\n",
    "\n",
    "    return ray_oris, ray_dirs"
   ]
  },
  {
   "cell_type": "markdown",
   "id": "2943c44d-9639-4dcf-8207-e0a25d3d2828",
   "metadata": {},
   "source": [
    "## Ray visualisation - sphere"
   ]
  },
  {
   "cell_type": "code",
   "execution_count": 655,
   "id": "cf04bc80-ad7b-4c47-b810-e63cd5fb9a41",
   "metadata": {},
   "outputs": [
    {
     "data": {
      "application/vnd.jupyter.widget-view+json": {
       "model_id": "4921a888756a4224bfb14ba01bdd6216",
       "version_major": 2,
       "version_minor": 0
      },
      "text/plain": [
       "RFBOutputContext()"
      ]
     },
     "metadata": {},
     "output_type": "display_data"
    },
    {
     "data": {
      "application/vnd.jupyter.widget-view+json": {
       "model_id": "b9d38de8757849b291d6dd747d6ced7e",
       "version_major": 2,
       "version_minor": 0
      },
      "text/html": [
       "<div class='snapshot-b9d38de8757849b291d6dd747d6ced7e' style='position:relative;'><img src='data:image/png;base64,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' style='width:800.0px;height:600.0px;' /><div style='position: absolute; top:0; left:0; padding:1px 3px; background: #777; color:#fff; font-size: 90%; font-family:sans-serif; '>snapshot</div></div>"
      ],
      "text/plain": [
       "CanvasBackend(css_height='600px', css_width='800px')"
      ]
     },
     "metadata": {},
     "output_type": "display_data"
    }
   ],
   "source": [
    "ray_oris, ray_dirs = generate_sphere_rays(cp.array([0,0,0]), 1, 100)\n",
    "ray_length = 100\n",
    "endpoints = ray_oris + ray_dirs * ray_length\n",
    "\n",
    "segments = cp.stack((ray_oris, endpoints), axis=1).reshape(-1, 3)\n",
    "\n",
    "# Convert to NumPy arrays for Vispy\n",
    "vertices = cp.asnumpy(segments)\n",
    "canvas = scene.SceneCanvas(keys='interactive', show=True)\n",
    "view = canvas.central_widget.add_view()\n",
    "\n",
    "line = scene.visuals.Line(pos=vertices, color='blue', width=1, connect='segments', parent=view.scene)\n",
    "\n",
    "view.camera = 'turntable'\n",
    "view.camera.fov = 45\n",
    "app.run()\n",
    "display(canvas.native)"
   ]
  },
  {
   "cell_type": "markdown",
   "id": "3844713c-d192-4e48-961e-d70f716c15ae",
   "metadata": {
    "jp-MarkdownHeadingCollapsed": true
   },
   "source": [
    "## Ray generation logic - box"
   ]
  },
  {
   "cell_type": "markdown",
   "id": "3bca95d5-d46c-4cae-a138-c03031cf83a9",
   "metadata": {},
   "source": [
    "## Ray intersection logic"
   ]
  },
  {
   "cell_type": "code",
   "execution_count": 656,
   "id": "dcfc9fa2-a0eb-48cf-af5f-9db82bb415a9",
   "metadata": {},
   "outputs": [],
   "source": [
    "def get_intersection_masks(ray_oris, ray_dirs, boxes):\n",
    "    n_boxes = boxes.shape[0]\n",
    "    n_rays = ray_oris.shape[0]\n",
    "    \n",
    "    box_min = cp.min(boxes, axis=1)\n",
    "    box_max = cp.max(boxes, axis=1)  \n",
    "    box_min = box_min[None, :, :]  # (1, n, 3)\n",
    "    box_max = box_max[None, :, :]  # (1, n, 3)\n",
    "    ray_origins = ray_oris[:, None, :]  # (r, 1, 3)~\n",
    "    ray_directions = ray_dirs[:, None, :]  # (r, 1, 3)\n",
    "    epsilon = 1e-8\n",
    "    ray_directions = cp.where(cp.abs(ray_directions) < epsilon, epsilon, ray_directions)\n",
    "    \n",
    "    t1 = (box_min - ray_origins) / ray_directions  # (r, n, 3)\n",
    "    t2 = (box_max - ray_origins) / ray_directions  # (r, n, 3)\n",
    "    \n",
    "    t_near = cp.minimum(t1, t2)  # (r, n, 3)\n",
    "    t_far = cp.maximum(t1, t2)  # (r, n, 3)\n",
    "    \n",
    "    # 5. Find the largest t_near and smallest t_far.\n",
    "    t_near_max = cp.max(t_near, axis=2)  # (r, n)\n",
    "    t_far_min = cp.min(t_far, axis=2)  # (r, n)\n",
    "    \n",
    "    intersection_mask = (t_far_min >= 0) & (t_near_max <= t_far_min)\n",
    "    return intersection_mask"
   ]
  },
  {
   "cell_type": "markdown",
   "id": "24d433a1-7e13-46b6-a94c-c63d1e830189",
   "metadata": {},
   "source": [
    "## Ray intersection logic - visualisation"
   ]
  },
  {
   "cell_type": "code",
   "execution_count": 657,
   "id": "e5fa5b3b-fee9-4829-b3a7-68a028e25c5f",
   "metadata": {},
   "outputs": [
    {
     "name": "stdout",
     "output_type": "stream",
     "text": [
      "(1, 17121)\n"
     ]
    },
    {
     "data": {
      "application/vnd.jupyter.widget-view+json": {
       "model_id": "7b5739a9e6ac48b38050b7e851de410f",
       "version_major": 2,
       "version_minor": 0
      },
      "text/plain": [
       "RFBOutputContext()"
      ]
     },
     "metadata": {},
     "output_type": "display_data"
    },
    {
     "data": {
      "application/vnd.jupyter.widget-view+json": {
       "model_id": "03c29cdbb3db41bf8e5fbdadea093183",
       "version_major": 2,
       "version_minor": 0
      },
      "text/html": [
       "<div class='snapshot-03c29cdbb3db41bf8e5fbdadea093183' style='position:relative;'><img src='data:image/png;base64,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' style='width:800.0px;height:600.0px;' /><div style='position: absolute; top:0; left:0; padding:1px 3px; background: #777; color:#fff; font-size: 90%; font-family:sans-serif; '>snapshot</div></div>"
      ],
      "text/plain": [
       "CanvasBackend(css_height='600px', css_width='800px')"
      ]
     },
     "metadata": {},
     "output_type": "display_data"
    }
   ],
   "source": [
    "ray_oris = cp.array([[3,3,3]])\n",
    "ray_dirs = cp.array([[-1, -1, -1]])\n",
    "intersection_mask = get_intersection_masks(ray_oris, ray_dirs, boxes)\n",
    "print(intersection_mask.shape)\n",
    "edges = np.array([\n",
    "    [0, 1],\n",
    "    [0, 2],\n",
    "    [0, 4],\n",
    "    [1, 3],\n",
    "    [1, 5],\n",
    "    [2, 3],\n",
    "    [2, 6],\n",
    "    [3, 7],\n",
    "    [4, 5],\n",
    "    [4, 6],\n",
    "    [5, 7],\n",
    "    [6, 7]\n",
    "])\n",
    "\n",
    "\n",
    "boxes_intersected = boxes[intersection_mask[0]]\n",
    "boxes_np = cp.asnumpy(boxes_intersected)  \n",
    "segments = boxes_np[:, edges, :]\n",
    "segments = segments.reshape(-1, 2, 3)  \n",
    "vertices = segments.reshape(-1, 3) \n",
    "\n",
    "canvas = scene.SceneCanvas(keys='interactive', show=True)\n",
    "view = canvas.central_widget.add_view()\n",
    "\n",
    "line_visual = scene.visuals.Line(pos=vertices, color='blue', width=2, connect='segments')\n",
    "view.add(line_visual)\n",
    "\n",
    "ray_length = 5\n",
    "endpoints = ray_oris + ray_dirs * ray_length\n",
    "\n",
    "r_segments = cp.stack((ray_oris, endpoints), axis=1).reshape(-1, 3)\n",
    "r_vertices = cp.asnumpy(r_segments)\n",
    "\n",
    "line = scene.visuals.Line(pos=r_vertices, color='green', width=1, connect='segments', parent=view.scene)\n",
    "view.add(line)\n",
    "\n",
    "view.camera = 'turntable'\n",
    "view.camera.fov = 45\n",
    "view.camera.center = (0,0,0)\n",
    "\n",
    "app.run()\n",
    "display(canvas.native)"
   ]
  },
  {
   "cell_type": "markdown",
   "id": "0d5b7795-b71d-4268-b31e-7fdaa77409a7",
   "metadata": {},
   "source": [
    "## Contribution calculation logic"
   ]
  },
  {
   "cell_type": "markdown",
   "id": "0a8ab25c-f98c-410f-b8eb-ee05b9a79b7a",
   "metadata": {},
   "source": [
    "### Evaluate gaussians"
   ]
  },
  {
   "cell_type": "code",
   "execution_count": 658,
   "id": "db6dee17-9a86-4fd5-95da-8a7e9da37e7a",
   "metadata": {},
   "outputs": [],
   "source": [
    "from vispy.color import Colormap\n",
    "\n",
    "def evaluate_gaussians2(point, gaussians):\n",
    "    # point is shape (3,) and gaussians has attributes:\n",
    "    #   means: shape (n, 3)\n",
    "    #   covariances: shape (n, 3, 3)\n",
    "    #   opacities: shape (n,)\n",
    "    result_batches = []\n",
    "    batch_size = int(gaussians.n_gaussians)\n",
    "    n = gaussians.means.shape[0]\n",
    "    for i in range(0, n, batch_size):\n",
    "        batch_means = gaussians.means[i:i+batch_size]      # shape (b, 3)\n",
    "        batch_covs  = gaussians.covariances[i:i+batch_size]  # shape (b, 3, 3)\n",
    "        batch_inv_covs = gaussians.inv_covariances[i:i+batch_size]\n",
    "        batch_rotations = gaussians.rotations[i:i+batch_size]\n",
    "        batch_scales_d = gaussians.scales_d[i:i+batch_size]\n",
    "        batch_opacities = gaussians.opacities[i:i+batch_size]\n",
    "        \n",
    "        diff = point - batch_means\n",
    "        exponent = diff[:, None, :] @ (batch_inv_covs @ diff[..., None])\n",
    "        exponent = exponent.squeeze(-1)\n",
    "        exponent *= -0.5\n",
    "        value = cp.exp(exponent)\n",
    "        value = cp.where(value < 0.5, 0, value)\n",
    "        result_batches.append(value)\n",
    "     \n",
    "    result = cp.concatenate(result_batches)\n",
    "    return result.flatten()\n"
   ]
  },
  {
   "cell_type": "code",
   "execution_count": 659,
   "id": "3c043a2e-1f8a-405b-8e4c-7c04cba3f02f",
   "metadata": {},
   "outputs": [],
   "source": [
    "def evaluate_gaussians(point, gaussians):\n",
    "    result_batches = []\n",
    "    batch_size = int(gaussians.n_gaussians)\n",
    "    n = gaussians.means.shape[0]\n",
    "    \n",
    "    for i in range(0, n, batch_size):\n",
    "        batch_means = gaussians.means[i:i+batch_size]\n",
    "        batch_covs = gaussians.covariances[i:i+batch_size]\n",
    "        batch_inv_covs = gaussians.inv_covariances[i:i+batch_size]\n",
    "        batch_opacities = gaussians.opacities[i:i+batch_size]\n",
    "        \n",
    "        diff = (point - batch_means)[..., None]  # shape: (b, 3, 1)\n",
    "        # Properly compute the quadratic form (x-μ)ᵀΣ⁻¹(x-μ)\n",
    "        exponent = diff.transpose(0,2,1) @ batch_inv_covs @ diff\n",
    "        # Compute full Gaussian PDF\n",
    "        value = cp.exp(-0.5 * exponent)\n",
    "        result_batches.append(value)\n",
    "    \n",
    "    result = cp.concatenate(result_batches)\n",
    "    return result.flatten()\n"
   ]
  },
  {
   "cell_type": "code",
   "execution_count": 660,
   "id": "3a0ccdf1-1703-43b6-bd69-5b1a36d6e2c9",
   "metadata": {},
   "outputs": [
    {
     "name": "stdout",
     "output_type": "stream",
     "text": [
      "hell\n"
     ]
    },
    {
     "ename": "AttributeError",
     "evalue": "'Gaussians' object has no attribute 'n_gaussians'",
     "output_type": "error",
     "traceback": [
      "\u001b[0;31m---------------------------------------------------------------------------\u001b[0m",
      "\u001b[0;31mAttributeError\u001b[0m                            Traceback (most recent call last)",
      "Cell \u001b[0;32mIn[660], line 65\u001b[0m\n\u001b[1;32m     63\u001b[0m     final \u001b[38;5;241m=\u001b[39m cp\u001b[38;5;241m.\u001b[39mmatmul(g\u001b[38;5;241m.\u001b[39mrotations[\u001b[38;5;241m0\u001b[39m], temp)\n\u001b[1;32m     64\u001b[0m     \u001b[38;5;28mprint\u001b[39m(\u001b[38;5;124m\"\u001b[39m\u001b[38;5;124mFinal covariance (step by step):\u001b[39m\u001b[38;5;130;01m\\n\u001b[39;00m\u001b[38;5;124m\"\u001b[39m, final\u001b[38;5;241m.\u001b[39mget())\n\u001b[0;32m---> 65\u001b[0m \u001b[43mvisualise_gaussian_evaluations\u001b[49m\u001b[43m(\u001b[49m\u001b[43mgaussians\u001b[49m\u001b[43m,\u001b[49m\u001b[43m \u001b[49m\u001b[38;5;241;43m-\u001b[39;49m\u001b[38;5;241;43m6\u001b[39;49m\u001b[43m)\u001b[49m\n\u001b[1;32m     66\u001b[0m debug_gaussian_values(gaussians, \u001b[38;5;241m-\u001b[39m\u001b[38;5;241m6\u001b[39m)\n",
      "Cell \u001b[0;32mIn[660], line 23\u001b[0m, in \u001b[0;36mvisualise_gaussian_evaluations\u001b[0;34m(gaussians, index, num_points)\u001b[0m\n\u001b[1;32m     19\u001b[0m X, Y \u001b[38;5;241m=\u001b[39m cp\u001b[38;5;241m.\u001b[39mmeshgrid(x, y)\n\u001b[1;32m     20\u001b[0m grid_points \u001b[38;5;241m=\u001b[39m cp\u001b[38;5;241m.\u001b[39mstack([X\u001b[38;5;241m.\u001b[39mravel(), Y\u001b[38;5;241m.\u001b[39mravel(), \n\u001b[1;32m     21\u001b[0m                       cp\u001b[38;5;241m.\u001b[39mfull_like(X\u001b[38;5;241m.\u001b[39mravel(), mean_z)], axis\u001b[38;5;241m=\u001b[39m\u001b[38;5;241m1\u001b[39m)\n\u001b[0;32m---> 23\u001b[0m values \u001b[38;5;241m=\u001b[39m cp\u001b[38;5;241m.\u001b[39marray([evaluate_gaussians(point, selected_gaussian) \n\u001b[1;32m     24\u001b[0m                   \u001b[38;5;28;01mfor\u001b[39;00m point \u001b[38;5;129;01min\u001b[39;00m grid_points])\n\u001b[1;32m     26\u001b[0m \u001b[38;5;66;03m# Reshape values back to grid\u001b[39;00m\n\u001b[1;32m     27\u001b[0m values \u001b[38;5;241m=\u001b[39m values\u001b[38;5;241m.\u001b[39mreshape(num_points, num_points)\n",
      "Cell \u001b[0;32mIn[660], line 23\u001b[0m, in \u001b[0;36m<listcomp>\u001b[0;34m(.0)\u001b[0m\n\u001b[1;32m     19\u001b[0m X, Y \u001b[38;5;241m=\u001b[39m cp\u001b[38;5;241m.\u001b[39mmeshgrid(x, y)\n\u001b[1;32m     20\u001b[0m grid_points \u001b[38;5;241m=\u001b[39m cp\u001b[38;5;241m.\u001b[39mstack([X\u001b[38;5;241m.\u001b[39mravel(), Y\u001b[38;5;241m.\u001b[39mravel(), \n\u001b[1;32m     21\u001b[0m                       cp\u001b[38;5;241m.\u001b[39mfull_like(X\u001b[38;5;241m.\u001b[39mravel(), mean_z)], axis\u001b[38;5;241m=\u001b[39m\u001b[38;5;241m1\u001b[39m)\n\u001b[0;32m---> 23\u001b[0m values \u001b[38;5;241m=\u001b[39m cp\u001b[38;5;241m.\u001b[39marray([\u001b[43mevaluate_gaussians\u001b[49m\u001b[43m(\u001b[49m\u001b[43mpoint\u001b[49m\u001b[43m,\u001b[49m\u001b[43m \u001b[49m\u001b[43mselected_gaussian\u001b[49m\u001b[43m)\u001b[49m \n\u001b[1;32m     24\u001b[0m                   \u001b[38;5;28;01mfor\u001b[39;00m point \u001b[38;5;129;01min\u001b[39;00m grid_points])\n\u001b[1;32m     26\u001b[0m \u001b[38;5;66;03m# Reshape values back to grid\u001b[39;00m\n\u001b[1;32m     27\u001b[0m values \u001b[38;5;241m=\u001b[39m values\u001b[38;5;241m.\u001b[39mreshape(num_points, num_points)\n",
      "Cell \u001b[0;32mIn[659], line 3\u001b[0m, in \u001b[0;36mevaluate_gaussians\u001b[0;34m(point, gaussians)\u001b[0m\n\u001b[1;32m      1\u001b[0m \u001b[38;5;28;01mdef\u001b[39;00m\u001b[38;5;250m \u001b[39m\u001b[38;5;21mevaluate_gaussians\u001b[39m(point, gaussians):\n\u001b[1;32m      2\u001b[0m     result_batches \u001b[38;5;241m=\u001b[39m []\n\u001b[0;32m----> 3\u001b[0m     batch_size \u001b[38;5;241m=\u001b[39m \u001b[38;5;28mint\u001b[39m(\u001b[43mgaussians\u001b[49m\u001b[38;5;241;43m.\u001b[39;49m\u001b[43mn_gaussians\u001b[49m)\n\u001b[1;32m      4\u001b[0m     n \u001b[38;5;241m=\u001b[39m gaussians\u001b[38;5;241m.\u001b[39mmeans\u001b[38;5;241m.\u001b[39mshape[\u001b[38;5;241m0\u001b[39m]\n\u001b[1;32m      6\u001b[0m     \u001b[38;5;28;01mfor\u001b[39;00m i \u001b[38;5;129;01min\u001b[39;00m \u001b[38;5;28mrange\u001b[39m(\u001b[38;5;241m0\u001b[39m, n, batch_size):\n",
      "\u001b[0;31mAttributeError\u001b[0m: 'Gaussians' object has no attribute 'n_gaussians'"
     ]
    }
   ],
   "source": [
    "def visualise_gaussian_evaluations(gaussians, index=0, num_points=30):\n",
    "    selected_gaussian = gaussians.at(index)\n",
    "    \n",
    "    boxes = create_bounding_boxes(gaussians)\n",
    "    selected_box = boxes[index]\n",
    "    start = cp.array([cp.min(selected_box[:,0]),\n",
    "                      cp.min(selected_box[:,1]),\n",
    "                      cp.min(selected_box[:,2])])\n",
    "    end = cp.array([cp.max(selected_box[:,0]),\n",
    "                    cp.max(selected_box[:,1]),\n",
    "                    cp.max(selected_box[:,2])])\n",
    "    \n",
    "    # Create a denser grid for better visualization\n",
    "    x = cp.linspace(start[0], end[0], num=num_points)\n",
    "    y = cp.linspace(start[1], end[1], num=num_points)\n",
    "    \n",
    "    # Create 2D grid at mean z-level\n",
    "    mean_z = selected_gaussian.means[0, 2]\n",
    "    X, Y = cp.meshgrid(x, y)\n",
    "    grid_points = cp.stack([X.ravel(), Y.ravel(), \n",
    "                          cp.full_like(X.ravel(), mean_z)], axis=1)\n",
    "    \n",
    "    values = cp.array([evaluate_gaussians(point, selected_gaussian) \n",
    "                      for point in grid_points])\n",
    "    \n",
    "    # Reshape values back to grid\n",
    "    values = values.reshape(num_points, num_points)\n",
    "    \n",
    "    # Create visualization\n",
    "    canvas = scene.SceneCanvas(keys='interactive', show=True)\n",
    "    view = canvas.central_widget.add_view()\n",
    "    \n",
    "    # Create color-mapped image\n",
    "    cmap = Colormap(['blue', 'green', 'yellow', 'red'])\n",
    "    # norm_values = (values - values.min()) / (values.max() - values.min())\n",
    "    \n",
    "    # Create and add image\n",
    "    image = scene.visuals.Image(values.get(), cmap=cmap)\n",
    "    view.add(image)\n",
    "    \n",
    "    # Set camera\n",
    "    view.camera = scene.PanZoomCamera(aspect=1)\n",
    "    view.camera.set_range()\n",
    "    \n",
    "    display(canvas.native)\n",
    "\n",
    "\n",
    "def debug_gaussian_values(gaussians, index=0):\n",
    "    g = gaussians.at(index)\n",
    "    print(\"Quaternion:\", g.quaternions[0].get())\n",
    "    print(\"Rotation matrix:\\n\", g.rotations[0].get())\n",
    "    print(\"Scales (raw):\", g.scales[0].get())\n",
    "    print(\"Scales (exp):\", g.scales_exp[0].get())\n",
    "    print(\"Covariance matrix:\\n\", g.covariances[0].get())\n",
    "    \n",
    "    # Let's also verify the calculation steps\n",
    "    print(\"\\nVerification steps:\")\n",
    "    rot = g.rotations[0]\n",
    "    scale_d = g.scales_d[0]\n",
    "    print(\"Scale diagonal matrix:\\n\", scale_d.get())\n",
    "    temp = cp.matmul(scale_d, g.rotations_t[0])\n",
    "    print(\"Scale * R^T:\\n\", temp.get())\n",
    "    final = cp.matmul(g.rotations[0], temp)\n",
    "    print(\"Final covariance (step by step):\\n\", final.get())\n",
    "visualise_gaussian_evaluations(gaussians, -6)\n",
    "debug_gaussian_values(gaussians, -6)"
   ]
  },
  {
   "cell_type": "code",
   "execution_count": null,
   "id": "6bb256f7-abd8-4233-a89d-dc771414a8a4",
   "metadata": {},
   "outputs": [],
   "source": [
    "import numpy as np\n",
    "import cupy as cp\n",
    "from vispy import scene, app\n",
    "\n",
    "def evaluate_pdf_3d(x, mean, cov_inv, opacity):\n",
    "    \"\"\"\n",
    "    Evaluate the multivariate Gaussian PDF at point(s) x.\n",
    "    x: shape (N, 3)\n",
    "    mean: shape (3,)\n",
    "    cov_inv: inverse of covariance (3,3)\n",
    "    norm_const: normalization constant = 1/sqrt((2π)^3 * det(cov))\n",
    "    \"\"\"\n",
    "    diff = (x - mean)[..., None]  # shape: (b, 3, 1)\n",
    "    cov_invs = np.tile(cov_inv, (x.shape[0],1,1))\n",
    "\n",
    "    exponent = diff.transpose(0,2,1) @ cov_invs @ diff\n",
    "    # Compute full Gaussian PDF\n",
    "    value = np.exp(-0.5 * exponent)\n",
    "    value = np.where(value < 0.8, 0, value)\n",
    "    value *= opacity\n",
    "    print(opacity)\n",
    "    return value\n",
    "    \n",
    "def visualise_gaussian_pdf_3d(gaussians, index=0, num_points=50):\n",
    "    # Retrieve the selected Gaussian model (using your at() method)\n",
    "    selected = gaussians.at(index)\n",
    "\n",
    "    # Convert mean and covariance from cupy to numpy for evaluation\n",
    "    mean = selected.means.get()[0]  # shape (3,)\n",
    "    cov = selected.covariances.get()[0]  # shape (3,3)\n",
    "    opacity = selected.opacities[0].get()\n",
    "\n",
    "    box = create_bounding_boxes(gaussians)[index]\n",
    "    enbiggen = 0\n",
    "    lower_x = cp.min(box[:,0]) - enbiggen\n",
    "    lower_y = cp.min(box[:, 1]) - enbiggen\n",
    "    lower_z = cp.min(box[:, 2]) - enbiggen\n",
    "\n",
    "    upper_x = cp.max(box[:, 0]) + enbiggen\n",
    "    upper_y = cp.max(box[:, 1]) + enbiggen\n",
    "    upper_z = cp.max(box[:, 2]) + enbiggen\n",
    "\n",
    "    lower = np.array([lower_x.get(), lower_y.get(), lower_z.get()])\n",
    "    upper = np.array([upper_x.get(), upper_y.get(), upper_z.get()])\n",
    "\n",
    "    # Create a 3D grid over this bounding box\n",
    "    xs = np.linspace(lower[0], upper[0], num_points)\n",
    "    ys = np.linspace(lower[1], upper[1], num_points)\n",
    "    zs = np.linspace(lower[2], upper[2], num_points)\n",
    "    X, Y, Z = np.meshgrid(xs, ys, zs, indexing='ij')\n",
    "    grid_points = np.stack([X.ravel(), Y.ravel(), Z.ravel()], axis=1)\n",
    "\n",
    "    # Pre-compute covariance inverse and determinant\n",
    "    cov_inv = np.linalg.inv(cov)\n",
    "\n",
    "    # Evaluate the PDF over the grid\n",
    "    pdf_vals = evaluate_pdf_3d(grid_points, mean, cov_inv, opacity)\n",
    "    volume_data = pdf_vals.reshape(num_points, num_points, num_points)\n",
    "\n",
    "    # Set up Vispy scene with volume rendering\n",
    "    canvas = scene.SceneCanvas(keys='interactive', show=True, bgcolor='black')\n",
    "    view = canvas.central_widget.add_view()\n",
    "    \n",
    "    # Create the Volume visual; you can adjust the threshold and cmap as needed.\n",
    "    vol = scene.visuals.Volume(volume_data, parent=view.scene, threshold=volume_data.max()*0.05, cmap='viridis')\n",
    "    \n",
    "    # Use a TurntableCamera to rotate and inspect the volume\n",
    "    view.camera = scene.cameras.TurntableCamera(fov=60, distance=10)\n",
    "    view.camera.set_range()\n",
    "    display(canvas.native)\n",
    "    app.run()\n",
    "visualise_gaussian_pdf_3d(gaussians, -10)\n",
    "debug_gaussian_values(gaussians, -10)"
   ]
  },
  {
   "cell_type": "markdown",
   "id": "5084aaeb-9a47-4c8c-b582-a31f4c77f7c8",
   "metadata": {},
   "source": [
    "###  Given a set of GSs and a ray, find the point along the ray which yields the maximum value per GS"
   ]
  },
  {
   "cell_type": "code",
   "execution_count": null,
   "id": "bc48abca-7b3c-4023-a4fd-78d8557d5e23",
   "metadata": {},
   "outputs": [],
   "source": [
    "from vispy.scene import visuals\n",
    "def get_max_positions(ray_ori, ray_dir, gaussians):\n",
    "    inv_covs = cp.linalg.inv(gaussians.covariances)\n",
    "\n",
    "    dx_t = gaussians.means - ray_ori\n",
    "    numerators =  cp.tile(ray_dir, (gaussians.n_gaussians, 1))[:,None,:] @ (inv_covs @ dx_t[..., None])\n",
    "\n",
    "    denomenators = cp.tile(ray_dir, (gaussians.n_gaussians, 1))[:,None,:] @ inv_covs @ cp.tile(ray_dir, (gaussians.n_gaussians, 1))[..., None]\n",
    "    t_values = numerators / denomenators\n",
    "    points = ray_ori + t_values * ray_dir\n",
    "    return points.squeeze()\n",
    "\n",
    "def visualise_max_positions(ray_ori, ray_dir, gaussians):\n",
    "    positions = cp.asnumpy(get_max_positions(ray_ori, ray_dir, gaussians))\n",
    "    means = cp.asnumpy(gaussians.means)\n",
    "    positions = cp.asnumpy(positions)\n",
    "\n",
    "    # Create a vispy SceneCanvas with an interactive view.\n",
    "    canvas = scene.SceneCanvas(keys='interactive', bgcolor='black', size=(800, 600), show=True)\n",
    "    view = canvas.central_widget.add_view()\n",
    "    \n",
    "    # Set up a turntable camera with a field-of-view of 45 degrees.\n",
    "    view.camera = scene.cameras.TurntableCamera(fov=45, distance=10)\n",
    "\n",
    "    # Build an array of segments: each segment connects a Gaussian mean to its max position.\n",
    "    # The segments array will have shape (2*N, 3) with consecutive pairs forming a line.\n",
    "    N = means.shape[0]\n",
    "    segments = np.empty((N * 2, 3), dtype=np.float32)\n",
    "    segments[0::2] = means       # Start points (Gaussian means)\n",
    "    segments[1::2] = positions   # End points (max positions)\n",
    "\n",
    "    # Create a line visual using the segments. The \"connect='segments'\" argument ensures that\n",
    "    # each pair of points is treated as an individual segment.\n",
    "    line = scene.visuals.Line(pos=segments, color='white', width=2, connect='segments')\n",
    "    view.add(line)\n",
    "\n",
    "    # Optionally, add scatter visuals for clarity: red for means and green for max positions.\n",
    "    scatter_means = scene.visuals.Markers()\n",
    "    scatter_means.set_data(means, face_color='red', size=8)\n",
    "    view.add(scatter_means)\n",
    "    \n",
    "    scatter_positions = scene.visuals.Markers()\n",
    "    scatter_positions.set_data(positions, face_color='green', size=8)\n",
    "    view.add(scatter_positions)\n",
    "\n",
    "    # Start the application event loop.\n",
    "    app.run()\n",
    "    display(canvas.native)\n",
    "    \n",
    "ray_ori = cp.array([ 43.2037912,-29.85525533,-85.10050619])\n",
    "ray_dir = cp.array([ 0.13662238,-0.09441061,-0.26911143])\n",
    "visualise_max_positions(ray_ori, ray_dir, gaussians)"
   ]
  },
  {
   "cell_type": "markdown",
   "id": "70acb287-f9e1-423e-804d-37632311519d",
   "metadata": {},
   "source": [
    "### argmax(GS(ray_ori, ray_dir)) logic"
   ]
  },
  {
   "cell_type": "code",
   "execution_count": null,
   "id": "5193316d-7447-4be8-9852-2621664eaf8c",
   "metadata": {},
   "outputs": [],
   "source": [
    "from tqdm import trange\n",
    "\n",
    "def get_max_gaussians(ray_ori, ray_dir, gaussians):\n",
    "    points = get_max_positions(ray_ori, ray_dir, gaussians)\n",
    "    values = cp.zeros(gaussians.n_gaussians)\n",
    "    for i in trange(len(points)):\n",
    "        values += evaluate_gaussians(points[i], gaussians)\n",
    "    return values"
   ]
  },
  {
   "cell_type": "code",
   "execution_count": null,
   "id": "7d30b381-57d6-43ff-90d8-27d5b49704c4",
   "metadata": {},
   "outputs": [],
   "source": []
  },
  {
   "cell_type": "code",
   "execution_count": null,
   "id": "a3c845c9-70bc-4bde-99d9-26848b0813f9",
   "metadata": {},
   "outputs": [],
   "source": [
    "def get_contributions(ray_ori, ray_dir, gaussians, intersection_mask):\n",
    "    # Compute normalized alphas\n",
    "    alphas = get_max_gaussians(ray_ori, ray_dir, gaussians).squeeze()\n",
    "    print(\"alpha max:\", cp.max(alphas))\n",
    "    alphas = alphas - cp.min(alphas)\n",
    "    max_val = cp.max(alphas)\n",
    "    if max_val > 0:\n",
    "        alphas = alphas / max_val\n",
    "\n",
    "    # Sort indices based on the z-coordinate of the gaussian means (front-to-back)\n",
    "    sort_idx = cp.argsort(gaussians.means[:, 2])\n",
    "    alphas_sorted = alphas[sort_idx]\n",
    "    \n",
    "    # Compute transmittance T for each layer:\n",
    "    # T[0] = 1, and for i > 0, T[i] = prod_{j=0}^{i-1} (1 - alpha_sorted[j])\n",
    "    T = cp.ones_like(alphas_sorted)\n",
    "    if alphas_sorted.shape[0] > 1:\n",
    "        # Compute cumulative product of (1 - alphas) for all but the last layer,\n",
    "        # then shift it to get T for each layer.\n",
    "        T[1:] = cp.cumprod(1 - alphas_sorted[:-1])\n",
    "    \n",
    "    # The gaussian's contribution is then:\n",
    "    contributions = alphas_sorted * T\n",
    "    print(cp.max(contributions))\n",
    "    return contributions\n",
    "    \n",
    "average_contribution = cp.zeros((gaussians.n_gaussians, 1))\n",
    "ray_oris, ray_dirs = generate_sphere_rays(cp.array([0,0,0]), 100, 10)\n",
    "intersection_masks = get_intersection_masks(ray_oris, ray_dirs, boxes)\n",
    "for i in range(ray_oris.shape[0]):\n",
    "    ray_ori = ray_oris[i]\n",
    "    ray_dir = ray_dirs[i]\n",
    "    print(\"ray ori: \", ray_ori)\n",
    "    print(\"ray dir: \", ray_dir)\n",
    "    intersection_mask = intersection_masks[i].reshape(gaussians.n_gaussians, 1)\n",
    "    contributions = get_contributions(ray_ori, ray_dir, gaussians, intersection_mask).reshape(gaussians.n_gaussians, 1)\n",
    "    average_contribution += contributions"
   ]
  },
  {
   "cell_type": "code",
   "execution_count": null,
   "id": "58e28806-79bf-419e-9c59-6a101919148e",
   "metadata": {},
   "outputs": [],
   "source": [
    "plt.plot(average_contribution.get())\n",
    "print(cp.max(average_contribution))"
   ]
  },
  {
   "cell_type": "code",
   "execution_count": null,
   "id": "d027963f-abdc-4c57-9eeb-441ed2310da0",
   "metadata": {},
   "outputs": [],
   "source": [
    "from vispy.color import get_colormap\n",
    "\n",
    "def visualize_contributions(ray_ori, ray_dir, gaussians, contributions):\n",
    "\n",
    "    ray_ori = cp.asnumpy(ray_ori)\n",
    "    ray_dir = cp.asnumpy(ray_dir)\n",
    "    centers = cp.asnumpy(gaussians.means)  # assuming shape (n_gaussians, 3)\n",
    "    contributions = cp.asnumpy(contributions).flatten()  # ensure a 1D array\n",
    "    canvas = scene.SceneCanvas(keys='interactive', size=(800, 600), show=True)\n",
    "    view = canvas.central_widget.add_view()\n",
    "    view.camera = 'turntable'  # enables mouse-driven 3D rotation\n",
    "\n",
    "    # --- Draw the original ray ---\n",
    "    # Here we choose an arbitrary length for visualization\n",
    "    ray_length = 10.0\n",
    "    ray_end = ray_ori + ray_dir * ray_length\n",
    "    ray_positions = np.array([ray_ori, ray_end])\n",
    "    ray_line = scene.visuals.Line(pos=ray_positions, color='red', width=2)\n",
    "    view.add(ray_line)\n",
    "\n",
    "    # --- Normalize contributions ---\n",
    "    # Avoid division by zero if contributions are constant.\n",
    "    contrib_min = contributions.min()\n",
    "  \n",
    "    contrib_max = contributions.max()\n",
    "    norm_contrib = (contributions - contrib_min) / (contrib_max - contrib_min + 1e-8)\n",
    "    # --- Map normalized contributions to colors using a colormap ---\n",
    "    cmap = get_colormap('viridis')\n",
    "    colors = cmap.map(norm_contrib)\n",
    "    # --- Create a marker for each mean ---\n",
    "    markers = scene.visuals.Markers()\n",
    "    markers.set_data(centers, face_color=colors, size=10)\n",
    "    view.add(markers)\n",
    "    \n",
    "    # Start the Vispy app event loop\n",
    "    app.run()\n",
    "    display(canvas.native)\n",
    "visualise_gaussian_evaluations(gaussians, average_contribution, ray_ori)"
   ]
  },
  {
   "cell_type": "markdown",
   "id": "3cfc3f10-f6f7-485f-b24f-e6930459e4be",
   "metadata": {},
   "source": [
    "## Surface GS extraction logic"
   ]
  },
  {
   "cell_type": "markdown",
   "id": "f45dd342-a58b-495a-8822-23f0634d6a7d",
   "metadata": {},
   "source": [
    "## FEM-GS visualisation logic"
   ]
  },
  {
   "cell_type": "markdown",
   "id": "a86faaff-6971-40f9-942f-6930e786a5b4",
   "metadata": {},
   "source": [
    "## "
   ]
  },
  {
   "cell_type": "markdown",
   "id": "d69982f3-9d9b-4867-ac92-427c04b22a84",
   "metadata": {},
   "source": []
  },
  {
   "cell_type": "code",
   "execution_count": null,
   "id": "5a26ca66-114f-4dfe-a907-005c35ff9005",
   "metadata": {},
   "outputs": [],
   "source": [
    "def visualise_all_gaussian_pdf_3d(gaussians, canvas, view, num_points=50):\n",
    "    # Compute global bounding box by aggregating all individual boxes.\n",
    "    boxes = create_bounding_boxes(gaussians)  # shape (N, 8, 3)\n",
    "    lower_x = cp.min(boxes[:, :, 0])\n",
    "    lower_y = cp.min(boxes[:, :, 1])\n",
    "    lower_z = cp.min(boxes[:, :, 2])\n",
    "    upper_x = cp.max(boxes[:, :, 0])\n",
    "    upper_y = cp.max(boxes[:, :, 1])\n",
    "    upper_z = cp.max(boxes[:, :, 2])\n",
    "    \n",
    "    lower = np.array([lower_x.get(), lower_y.get(), lower_z.get()])\n",
    "    upper = np.array([upper_x.get(), upper_y.get(), upper_z.get()])\n",
    "\n",
    "    # Create a 3D grid over the global bounding box.\n",
    "    xs = np.linspace(lower[0], upper[0], num_points)\n",
    "    ys = np.linspace(lower[1], upper[1], num_points)\n",
    "    zs = np.linspace(lower[2], upper[2], num_points)\n",
    "    X, Y, Z = np.meshgrid(xs, ys, zs, indexing='ij')\n",
    "    grid_points = np.stack([X.ravel(), Y.ravel(), Z.ravel()], axis=1)\n",
    "\n",
    "    # Initialize volume data.\n",
    "    volume_data = np.zeros(grid_points.shape[0], dtype=np.float32)\n",
    "    test_gaussians.opacities = cp.array(\n",
    "            [0.0, 0.5, 1.0, 1.0]\n",
    "    )\n",
    "    # For each Gaussian, evaluate its PDF over the grid and sum up the densities.\n",
    "    N = gaussians.means.shape[0]\n",
    "    for i in range(N):\n",
    "        selected = gaussians.at(i)\n",
    "        mean = selected.means.get()[0]       # shape (3,)\n",
    "        print(selected.covariances)\n",
    "        cov = selected.covariances.get()[0]    # shape (3,3)\n",
    "        cov_inv = np.linalg.inv(cov)\n",
    "        opacity = selected.opacities.get()[0]\n",
    "      \n",
    "        # Evaluate the PDF for this Gaussian over the grid.\n",
    "        pdf_vals = evaluate_pdf_3d(grid_points, mean, cov_inv, opacity)\n",
    "        pdf_vals = pdf_vals.reshape(-1)\n",
    "        volume_data += pdf_vals\n",
    "\n",
    "    volume_data = volume_data.reshape(num_points, num_points, num_points)\n",
    "\n",
    "    vol = scene.visuals.Volume(volume_data, parent=view.scene,\n",
    "                               cmap='hot')\n",
    "    \n"
   ]
  },
  {
   "cell_type": "code",
   "execution_count": 661,
   "id": "3209ee6f-7415-4933-be13-933189b19875",
   "metadata": {},
   "outputs": [],
   "source": [
    "def create_test_gaussians():\n",
    "    test_gaussians = Gaussians(None)\n",
    "    test_gaussians.means = cp.array(\n",
    "        [\n",
    "            [0,0,1],\n",
    "            [0,0,4],\n",
    "            [0,0,7],\n",
    "            [0,0,10]\n",
    "        ]\n",
    "    )\n",
    "    test_gaussians.opacities = cp.array(\n",
    "        [0.0, 0.5, 1.0, 1.0]\n",
    "    )\n",
    "    test_gaussians.opacities = test_gaussians.opacities[..., None]\n",
    "    test_gaussians.scales = cp.random.rand(4,3)\n",
    "    test_gaussians.quaternions = cp.random.rand(4,4)\n",
    "    test_gaussians.post_process()\n",
    "   \n",
    "    return test_gaussians\n",
    "    \n",
    "test_gaussians = create_test_gaussians()\n"
   ]
  },
  {
   "cell_type": "code",
   "execution_count": 662,
   "id": "e18c49ef-a9e1-47ce-91e2-8f4094372b5c",
   "metadata": {},
   "outputs": [],
   "source": [
    "def add_ray_to_canvas(canvas, view, ray_ori, ray_dir, distance=30.0, color='red', width=2):\n",
    "    # Ensure inputs are numpy arrays\n",
    "    ray_ori = ray_ori.get()\n",
    "    ray_dir = ray_dir.get()\n",
    "    # Normalize the ray direction\n",
    "    ray_dir = ray_dir / np.linalg.norm(ray_dir)\n",
    "    \n",
    "    # Compute the endpoint of the ray\n",
    "    ray_end = ray_ori + ray_dir * distance\n",
    "    \n",
    "    # Stack the origin and endpoint to form the ray line points\n",
    "    ray_points = np.vstack([ray_ori, ray_end])\n",
    "    \n",
    "    # Create a line visual for the ray\n",
    "    ray_line = scene.visuals.Line(pos=ray_points, color=color, width=width)\n",
    "    \n",
    "    view.add(ray_line)\n",
    "    return ray_line"
   ]
  },
  {
   "cell_type": "markdown",
   "id": "dbb65645-2add-4e6b-bec3-0cd949df37b9",
   "metadata": {},
   "source": [
    "### Call it"
   ]
  },
  {
   "cell_type": "code",
   "execution_count": 663,
   "id": "928110cd-bf01-4f53-b9ca-93c930bf993e",
   "metadata": {
    "scrolled": true
   },
   "outputs": [
    {
     "data": {
      "application/vnd.jupyter.widget-view+json": {
       "model_id": "b517503f554c4f11998a6cc60f015ff7",
       "version_major": 2,
       "version_minor": 0
      },
      "text/plain": [
       "RFBOutputContext()"
      ]
     },
     "metadata": {},
     "output_type": "display_data"
    },
    {
     "name": "stdout",
     "output_type": "stream",
     "text": [
      "hell\n",
      "[[[ 5.00826082 -0.33731814  1.70907541]\n",
      "  [-0.33731814  1.73708159 -0.11072284]\n",
      "  [ 1.70907541 -0.11072284  2.49780066]]]\n",
      "0.0\n",
      "hell\n",
      "[[[ 2.44524038 -0.46544072 -0.46495224]\n",
      "  [-0.46544072  1.90753749  0.23454065]\n",
      "  [-0.46495224  0.23454065  3.36460573]]]\n",
      "0.5\n",
      "hell\n",
      "[[[ 5.4002218  -0.26464981  0.43501939]\n",
      "  [-0.26464981  5.18727439  0.14476621]\n",
      "  [ 0.43501939  0.14476621  5.78835182]]]\n",
      "1.0\n",
      "hell\n",
      "[[[ 3.76542047 -1.27122869 -0.5325153 ]\n",
      "  [-1.27122869  3.89150357  0.5195317 ]\n",
      "  [-0.5325153   0.5195317   2.83886445]]]\n",
      "1.0\n"
     ]
    },
    {
     "data": {
      "application/vnd.jupyter.widget-view+json": {
       "model_id": "6fae95758ac441c9b966fcc46db7b0aa",
       "version_major": 2,
       "version_minor": 0
      },
      "text/html": [
       "<div class='snapshot-6fae95758ac441c9b966fcc46db7b0aa' style='position:relative;'><img src='data:image/png;base64,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' style='width:800.0px;height:600.0px;' /><div style='position: absolute; top:0; left:0; padding:1px 3px; background: #777; color:#fff; font-size: 90%; font-family:sans-serif; '>snapshot</div></div>"
      ],
      "text/plain": [
       "CanvasBackend(css_height='600px', css_width='800px')"
      ]
     },
     "metadata": {},
     "output_type": "display_data"
    }
   ],
   "source": [
    "canvas = scene.SceneCanvas(keys='interactive', show=True, bgcolor='black')\n",
    "view = canvas.central_widget.add_view()\n",
    "# Configure the camera for this view.\n",
    "view.camera = scene.cameras.TurntableCamera(fov=60, distance=10)\n",
    "view.camera.set_range()\n",
    "add_ray_to_canvas(canvas, view, cp.array([0,0,0]), cp.array([1,1,1]))\n",
    "visualise_all_gaussian_pdf_3d(test_gaussians, canvas, view)\n",
    "display(canvas.native)"
   ]
  },
  {
   "cell_type": "code",
   "execution_count": 755,
   "id": "355050a3-385c-42d7-af7b-ff548efaa0cf",
   "metadata": {},
   "outputs": [],
   "source": [
    "import cupy as cp\n",
    "import numpy as np  # For any CPU-side operations if needed\n",
    "from cupyx.scipy.special import erf\n",
    "def batch_integrate_gaussians_on_rays(ray_ori, ray_dirs, gaussians, t_min=-cp.inf, t_max=cp.inf):\n",
    "    \"\"\"\n",
    "    Batched closed-form integration of multiple Gaussians along multiple rays.\n",
    "    \n",
    "    Parameters:\n",
    "      ray_ori: cp.ndarray of shape (r, 3)\n",
    "          Ray origins.\n",
    "      ray_dirs: cp.ndarray of shape (r, 3)\n",
    "          Ray directions (need not be normalized; they will be normalized).\n",
    "      gaussians: Gaussians object containing attributes:\n",
    "          - means: shape (n, 3)\n",
    "          - inv_covariances: shape (n, 3, 3)\n",
    "          - opacities: shape (n,) or (n, 1)\n",
    "      t_min: scalar (default -cp.inf)\n",
    "          Lower integration limit along the ray.\n",
    "      t_max: scalar (default cp.inf)\n",
    "          Upper integration limit along the ray.\n",
    "    \n",
    "    Returns:\n",
    "      I: cp.ndarray of shape (r, n)\n",
    "          The closed-form integral of each Gaussian along each ray.\n",
    "    \"\"\"\n",
    "    # Normalize the ray directions (r,3)\n",
    "    ray_dirs = ray_dirs / cp.linalg.norm(ray_dirs, axis=1, keepdims=True)  # (r, 3)\n",
    "    \n",
    "    # Retrieve Gaussian parameters.\n",
    "    # means: (n,3), inv_covariances: (n,3,3)\n",
    "    means = gaussians.means       # (n, 3)\n",
    "    Sigma_inv = gaussians.inv_covariances  # (n, 3, 3)\n",
    "    \n",
    "    # Number of rays and Gaussians.\n",
    "    r = ray_ori.shape[0]\n",
    "    n = means.shape[0]\n",
    "    \n",
    "    # Compute v = d^T Sigma_inv d for each ray and Gaussian.\n",
    "    # Result: (r, n)\n",
    "    v = cp.einsum('ri, nij, rj -> rn', ray_dirs, Sigma_inv, ray_dirs)\n",
    "    \n",
    "    # Compute diff = ray_ori - mu for each ray and Gaussian.\n",
    "    # Result: (r, n, 3)\n",
    "    diff = ray_ori[:, None, :] - means[None, :, :]\n",
    "    \n",
    "    # Compute w = d^T Sigma_inv (ray_ori - mu)\n",
    "    # (r, n) = sum_{i,j} ray_dirs[r,i] * Sigma_inv[n,i,j] * diff[r,n,j]\n",
    "    w = cp.einsum('ri, nij, rnj -> rn', ray_dirs, Sigma_inv, diff)\n",
    "    \n",
    "    # Compute c = (ray_ori - mu)^T Sigma_inv (ray_ori - mu)\n",
    "    # Result: (r, n)\n",
    "    c = cp.einsum('rni, nij, rnj -> rn', diff, Sigma_inv, diff)\n",
    "    \n",
    "    # For numerical stability, ensure v is not zero.\n",
    "    # (In practice v > 0 since Sigma_inv is positive definite.)\n",
    "    \n",
    "    # Compute scaling factors.\n",
    "    sqrt_v_over_2 = cp.sqrt(v / 2.0)  # (r, n)\n",
    "    \n",
    "    # Compute the transformed integration limits.\n",
    "    # Here, u = sqrt(v/2)*(t + w/v)\n",
    "    # Note: w/v is computed elementwise.\n",
    "    u_max = sqrt_v_over_2 * (t_max + w / v)  # (r, n)\n",
    "    u_min = sqrt_v_over_2 * (t_min + w / v)  # (r, n)\n",
    "    \n",
    "    # Difference of error functions.\n",
    "    erf_diff = erf(u_max) - erf(u_min)  # (r, n)\n",
    "    \n",
    "    # Compute the prefactor: sqrt(2*pi)/(2*sqrt(v))\n",
    "    prefactor = cp.sqrt(2 * cp.pi) / (2 * cp.sqrt(v))  # (r, n)\n",
    "    \n",
    "    # Exponential factor: exp(w^2/(2v) - c/2)\n",
    "    exp_factor = cp.exp((w**2) / (2 * v) - c / 2)  # (r, n)\n",
    "    \n",
    "    # Closed-form integral along each ray for each Gaussian.\n",
    "    I = prefactor * exp_factor * erf_diff  # (r, n)\n",
    "    \n",
    "    # Modulate by the Gaussian opacities.\n",
    "    # Reshape opacities to broadcast correctly: (n,) -> (1, n)\n",
    "    opacity = gaussians.opacities.reshape(1, -1)\n",
    "    I = I * opacity  # (r, n)\n",
    "    \n",
    "    return I\n",
    "ray_oris, ray_dirs = generate_sphere_rays(cp.array([0,0,0]), 0.5, 1000)\n",
    "I = batch_integrate_gaussians_on_rays(ray_oris, ray_dirs, gaussians)"
   ]
  },
  {
   "cell_type": "code",
   "execution_count": 756,
   "id": "c83aa101-0526-4fd0-a210-65ce02751040",
   "metadata": {},
   "outputs": [
    {
     "name": "stdout",
     "output_type": "stream",
     "text": [
      "0.0\n"
     ]
    }
   ],
   "source": [
    "print(cp.min(I))"
   ]
  },
  {
   "cell_type": "code",
   "execution_count": 757,
   "id": "bf0c88a4-3942-4183-9cbe-2b7dce59d183",
   "metadata": {},
   "outputs": [],
   "source": [
    "import cupy as cp\n",
    "\n",
    "def aggregate_and_minmax_normalize(I):\n",
    "    \"\"\"\n",
    "    Given a dense integration result I of shape (r, n) where each entry corresponds\n",
    "    to the integrated contribution of a Gaussian along a ray, this function computes:\n",
    "      1. The mean contribution per Gaussian (aggregated over all rays).\n",
    "      2. A min-max normalized version of that vector such that the minimum value is 0\n",
    "         and the maximum value is 1.\n",
    "    \n",
    "    Parameters:\n",
    "        I: cp.ndarray of shape (r, n)\n",
    "            The dense integration results.\n",
    "    \n",
    "    Returns:\n",
    "        normalized: cp.ndarray of shape (n,)\n",
    "            The min-max normalized mean contributions per Gaussian.\n",
    "    \"\"\"\n",
    "    # Aggregate: average contribution per Gaussian over the rays.\n",
    "    mean_contrib = cp.mean(I, axis=0)  # shape (n,)\n",
    "    \n",
    "    # Compute the minimum and maximum of the aggregated contributions.\n",
    "    min_val = cp.min(mean_contrib)\n",
    "    max_val = cp.max(mean_contrib)\n",
    "    \n",
    "    # Apply min-max normalization to map values to [0, 1]\n",
    "    normalized = (mean_contrib - min_val) / (max_val - min_val)\n",
    "    \n",
    "    return normalized\n",
    "\n",
    "standardized_values = aggregate_and_minmax_normalize(I)"
   ]
  },
  {
   "cell_type": "code",
   "execution_count": 758,
   "id": "22c185a1-04dc-419a-8db5-ca5d833c7ab1",
   "metadata": {},
   "outputs": [
    {
     "data": {
      "text/plain": [
       "[<matplotlib.lines.Line2D at 0x7ba19e268730>]"
      ]
     },
     "execution_count": 758,
     "metadata": {},
     "output_type": "execute_result"
    },
    {
     "data": {
      "image/png": "[encoded data removed]",
      "text/plain": [
       "<Figure size 640x480 with 1 Axes>"
      ]
     },
     "metadata": {},
     "output_type": "display_data"
    }
   ],
   "source": [
    "plt.plot(standardized_values.get())"
   ]
  },
  {
   "cell_type": "code",
   "execution_count": 759,
   "id": "9d06eddd-b585-44ba-ac99-ecff61608073",
   "metadata": {},
   "outputs": [],
   "source": [
    "def render_ray_oris(canvas, view, ray_oris, marker_size=5):\n",
    "    \"\"\"\n",
    "    Renders the given ray origins as red markers on the provided Vispy view.\n",
    "    \n",
    "    Parameters:\n",
    "      canvas: vispy.scene.SceneCanvas\n",
    "          The Vispy canvas.\n",
    "      view: vispy.scene.widgets.ViewBox or similar\n",
    "          The view in which to render the markers.\n",
    "      ray_oris: cp.ndarray of shape (r, 3)\n",
    "          The ray origin points.\n",
    "      marker_size: int (default 5)\n",
    "          Size of the markers.\n",
    "    \"\"\"\n",
    "    # Convert the CuPy array to a NumPy array for rendering.\n",
    "    ray_oris_np = cp.asnumpy(ray_oris)\n",
    "    \n",
    "    # Create a markers visual and set its data.\n",
    "    markers = scene.visuals.Markers()\n",
    "    markers.set_data(ray_oris_np, face_color='red', size=marker_size)\n",
    "    \n",
    "    # Add the markers to the view.\n",
    "    view.add(markers)\n",
    "    \n",
    "    # Optionally update or refresh the canvas.\n",
    "    canvas.update()"
   ]
  },
  {
   "cell_type": "code",
   "execution_count": 765,
   "id": "ef50f74a-d56c-45e6-9351-0340cfe07c8a",
   "metadata": {},
   "outputs": [
    {
     "data": {
      "application/vnd.jupyter.widget-view+json": {
       "model_id": "5c365c4076cc4f06a05a55f520e9e0ed",
       "version_major": 2,
       "version_minor": 0
      },
      "text/plain": [
       "RFBOutputContext()"
      ]
     },
     "metadata": {},
     "output_type": "display_data"
    },
    {
     "ename": "ValueError",
     "evalue": "could not broadcast input array from shape (17121000,) into shape (17121,)",
     "output_type": "error",
     "traceback": [
      "\u001b[0;31m---------------------------------------------------------------------------\u001b[0m",
      "\u001b[0;31mValueError\u001b[0m                                Traceback (most recent call last)",
      "Cell \u001b[0;32mIn[765], line 17\u001b[0m\n\u001b[1;32m     15\u001b[0m \u001b[38;5;66;03m# Create the scatter plot\u001b[39;00m\n\u001b[1;32m     16\u001b[0m scatter \u001b[38;5;241m=\u001b[39m visuals\u001b[38;5;241m.\u001b[39mMarkers()\n\u001b[0;32m---> 17\u001b[0m \u001b[43mscatter\u001b[49m\u001b[38;5;241;43m.\u001b[39;49m\u001b[43mset_data\u001b[49m\u001b[43m(\u001b[49m\u001b[43mmeans_np\u001b[49m\u001b[43m,\u001b[49m\u001b[43m \u001b[49m\u001b[43msize\u001b[49m\u001b[38;5;241;43m=\u001b[39;49m\u001b[43msizes\u001b[49m\u001b[43m,\u001b[49m\u001b[43m \u001b[49m\u001b[43medge_color\u001b[49m\u001b[38;5;241;43m=\u001b[39;49m\u001b[38;5;28;43;01mNone\u001b[39;49;00m\u001b[43m,\u001b[49m\u001b[43m \u001b[49m\u001b[43mface_color\u001b[49m\u001b[38;5;241;43m=\u001b[39;49m\u001b[38;5;124;43m'\u001b[39;49m\u001b[38;5;124;43mwhite\u001b[39;49m\u001b[38;5;124;43m'\u001b[39;49m\u001b[43m)\u001b[49m\n\u001b[1;32m     19\u001b[0m \u001b[38;5;66;03m# Add the scatter plot to the view\u001b[39;00m\n\u001b[1;32m     20\u001b[0m view\u001b[38;5;241m.\u001b[39madd(scatter)\n",
      "File \u001b[0;32m~/miniconda3/envs/env/lib/python3.9/site-packages/vispy/visuals/markers.py:650\u001b[0m, in \u001b[0;36mMarkersVisual.set_data\u001b[0;34m(self, pos, size, edge_width, edge_width_rel, edge_color, face_color, symbol)\u001b[0m\n\u001b[1;32m    648\u001b[0m     data[\u001b[38;5;124m'\u001b[39m\u001b[38;5;124ma_edgewidth\u001b[39m\u001b[38;5;124m'\u001b[39m] \u001b[38;5;241m=\u001b[39m size \u001b[38;5;241m*\u001b[39m edge_width_rel\n\u001b[1;32m    649\u001b[0m data[\u001b[38;5;124m'\u001b[39m\u001b[38;5;124ma_position\u001b[39m\u001b[38;5;124m'\u001b[39m][:, :pos\u001b[38;5;241m.\u001b[39mshape[\u001b[38;5;241m1\u001b[39m]] \u001b[38;5;241m=\u001b[39m pos\n\u001b[0;32m--> 650\u001b[0m \u001b[43mdata\u001b[49m\u001b[43m[\u001b[49m\u001b[38;5;124;43m'\u001b[39;49m\u001b[38;5;124;43ma_size\u001b[39;49m\u001b[38;5;124;43m'\u001b[39;49m\u001b[43m]\u001b[49m \u001b[38;5;241m=\u001b[39m size\n\u001b[1;32m    652\u001b[0m \u001b[38;5;28;01mif\u001b[39;00m symbol \u001b[38;5;129;01mis\u001b[39;00m \u001b[38;5;28;01mNone\u001b[39;00m:\n\u001b[1;32m    653\u001b[0m     data[\u001b[38;5;124m\"\u001b[39m\u001b[38;5;124ma_symbol\u001b[39m\u001b[38;5;124m\"\u001b[39m] \u001b[38;5;241m=\u001b[39m np\u001b[38;5;241m.\u001b[39marray(\u001b[38;5;28;01mNone\u001b[39;00m)\n",
      "\u001b[0;31mValueError\u001b[0m: could not broadcast input array from shape (17121000,) into shape (17121,)"
     ]
    }
   ],
   "source": [
    "means_np = cp.asnumpy(gaussians.means)  # Convert to NumPy array\n",
    "values_np = cp.asnumpy(I).flatten()  # Convert and flatten to 1D array\n",
    "\n",
    "# Create a canvas with a 3D viewport\n",
    "canvas = scene.SceneCanvas(keys='interactive', show=True)\n",
    "view = canvas.central_widget.add_view()\n",
    "view.camera = 'turntable'  # 3D camera\n",
    "\n",
    "# Normalize values to a suitable size range for visualization\n",
    "min_size = 5  # Minimum marker size\n",
    "max_size = 10  # Maximum marker size\n",
    "norm_values = (values_np - values_np.min()) / (values_np.ptp() + np.finfo(float).eps)\n",
    "sizes = min_size + norm_values * (max_size - min_size)\n",
    "\n",
    "# Create the scatter plot\n",
    "scatter = visuals.Markers()\n",
    "scatter.set_data(means_np, size=sizes, edge_color=None, face_color='white')\n",
    "\n",
    "# Add the scatter plot to the view\n",
    "view.add(scatter)\n",
    "render_ray_oris(canvas, view, ray_oris)\n",
    "display(canvas.native)"
   ]
  },
  {
   "cell_type": "code",
   "execution_count": null,
   "id": "bb53c1d8-180b-47cb-ad9f-6dd903984075",
   "metadata": {},
   "outputs": [],
   "source": []
  },
  {
   "cell_type": "code",
   "execution_count": null,
   "id": "b98d9636-70a1-4615-89b7-bb8fa3926a73",
   "metadata": {},
   "outputs": [],
   "source": []
  },
  {
   "cell_type": "code",
   "execution_count": null,
   "id": "6247ff19-08f7-4999-a464-6e56b55088dd",
   "metadata": {},
   "outputs": [],
   "source": []
  },
  {
   "cell_type": "code",
   "execution_count": null,
   "id": "d9ff3a72-7702-4c46-8be7-70af97411a44",
   "metadata": {},
   "outputs": [],
   "source": []
  },
  {
   "cell_type": "code",
   "execution_count": null,
   "id": "6e23b214-4e54-4edb-9ee4-a3f583db1ef9",
   "metadata": {},
   "outputs": [],
   "source": []
  },
  {
   "cell_type": "code",
   "execution_count": null,
   "id": "0445f91b-ff2c-42a9-a9ce-0d023639f8f9",
   "metadata": {},
   "outputs": [],
   "source": []
  },
  {
   "cell_type": "code",
   "execution_count": null,
   "id": "5257b200-3497-4fab-bf11-5e5870b3b2c0",
   "metadata": {},
   "outputs": [],
   "source": []
  },
  {
   "cell_type": "code",
   "execution_count": null,
   "id": "74cb397d-70b6-4668-8c5c-3a3c4df1663a",
   "metadata": {},
   "outputs": [],
   "source": []
  },
  {
   "cell_type": "code",
   "execution_count": null,
   "id": "670804bb-94b8-4e17-865a-ac39ad0e6fd1",
   "metadata": {},
   "outputs": [],
   "source": []
  },
  {
   "cell_type": "code",
   "execution_count": null,
   "id": "83d77f44-9a99-47c0-bc4b-12dd8d7a5760",
   "metadata": {},
   "outputs": [],
   "source": []
  },
  {
   "cell_type": "code",
   "execution_count": null,
   "id": "47cc0e71-af8e-4f06-966f-56baa6802c0a",
   "metadata": {},
   "outputs": [],
   "source": []
  },
  {
   "cell_type": "code",
   "execution_count": null,
   "id": "3fd2b3ee-e72a-4593-832f-0f98f7823e61",
   "metadata": {},
   "outputs": [],
   "source": []
  },
  {
   "cell_type": "code",
   "execution_count": null,
   "id": "4313fc02-a06d-4705-94f7-eed45bfa72d7",
   "metadata": {},
   "outputs": [],
   "source": []
  },
  {
   "cell_type": "code",
   "execution_count": null,
   "id": "cd0fed8b-3736-4583-a241-08501dee1fd1",
   "metadata": {},
   "outputs": [],
   "source": []
  },
  {
   "cell_type": "code",
   "execution_count": null,
   "id": "e268dd9a-cc7f-43e5-a08b-3f3d692d69d2",
   "metadata": {},
   "outputs": [],
   "source": []
  },
  {
   "cell_type": "code",
   "execution_count": null,
   "id": "92b2865b-55ed-4bcf-8b1e-c1e2910588d3",
   "metadata": {},
   "outputs": [],
   "source": []
  },
  {
   "cell_type": "code",
   "execution_count": null,
   "id": "f3a861e0-8e27-4635-a674-387ed0872992",
   "metadata": {},
   "outputs": [],
   "source": []
  },
  {
   "cell_type": "code",
   "execution_count": null,
   "id": "4da88661-4792-4845-89d2-8a0d35da8922",
   "metadata": {},
   "outputs": [],
   "source": []
  },
  {
   "cell_type": "code",
   "execution_count": null,
   "id": "3746b8ff-abf7-4e72-8767-5c88601c1204",
   "metadata": {},
   "outputs": [],
   "source": []
  },
  {
   "cell_type": "code",
   "execution_count": null,
   "id": "2a923799-5892-440e-97bb-4763939eae5b",
   "metadata": {},
   "outputs": [],
   "source": []
  },
  {
   "cell_type": "code",
   "execution_count": null,
   "id": "2cb8e9c9-2a01-47c3-8c2d-671a91189853",
   "metadata": {},
   "outputs": [],
   "source": []
  },
  {
   "cell_type": "code",
   "execution_count": null,
   "id": "9e110dfc-78e6-433d-ac83-7723d242b2b6",
   "metadata": {},
   "outputs": [],
   "source": []
  },
  {
   "cell_type": "code",
   "execution_count": null,
   "id": "0d9f6343-a326-4df2-a221-d251b566848e",
   "metadata": {},
   "outputs": [],
   "source": []
  },
  {
   "cell_type": "code",
   "execution_count": null,
   "id": "837b8cb5-69c9-4503-86aa-0f7d6384c870",
   "metadata": {},
   "outputs": [],
   "source": []
  },
  {
   "cell_type": "code",
   "execution_count": null,
   "id": "9706ba46-d386-46f8-a385-5d26ecf762f6",
   "metadata": {},
   "outputs": [],
   "source": []
  },
  {
   "cell_type": "code",
   "execution_count": null,
   "id": "fff25267-507b-4756-af05-c29f1c0e9942",
   "metadata": {},
   "outputs": [],
   "source": []
  },
  {
   "cell_type": "code",
   "execution_count": null,
   "id": "45f9b2a8-35d0-472e-8353-fae878a5324f",
   "metadata": {},
   "outputs": [],
   "source": []
  },
  {
   "cell_type": "code",
   "execution_count": null,
   "id": "334a33f0-b4b2-498a-b838-1671d3293d7d",
   "metadata": {},
   "outputs": [],
   "source": []
  },
  {
   "cell_type": "code",
   "execution_count": null,
   "id": "adfa9278-e78f-4395-a120-fdb06819e882",
   "metadata": {},
   "outputs": [],
   "source": []
  },
  {
   "cell_type": "code",
   "execution_count": null,
   "id": "8f3cc0c7-a5a9-4e9e-9a0f-f8c42269de2c",
   "metadata": {},
   "outputs": [],
   "source": []
  },
  {
   "cell_type": "code",
   "execution_count": null,
   "id": "4fce4ded-5ffd-4267-b3d9-3d0aa22e9990",
   "metadata": {},
   "outputs": [],
   "source": []
  },
  {
   "cell_type": "code",
   "execution_count": null,
   "id": "13000c24-7d79-494c-888b-3477392c5114",
   "metadata": {},
   "outputs": [],
   "source": []
  },
  {
   "cell_type": "code",
   "execution_count": null,
   "id": "3883d740-dbc2-4ccb-bc28-761809231644",
   "metadata": {},
   "outputs": [],
   "source": []
  },
  {
   "cell_type": "code",
   "execution_count": null,
   "id": "d6c23174-1999-4670-91aa-fbbe60ccaace",
   "metadata": {},
   "outputs": [],
   "source": []
  }
 ],
 "metadata": {
  "kernelspec": {
   "display_name": "Python 3 (ipykernel)",
   "language": "python",
   "name": "python3"
  },
  "language_info": {
   "codemirror_mode": {
    "name": "ipython",
    "version": 3
   },
   "file_extension": ".py",
   "mimetype": "text/x-python",
   "name": "python",
   "nbconvert_exporter": "python",
   "pygments_lexer": "ipython3",
   "version": "3.9.21"
  }
 },
 "nbformat": 4,
 "nbformat_minor": 5
}
